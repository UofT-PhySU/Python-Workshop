{
 "cells": [
  {
   "cell_type": "markdown",
   "metadata": {
    "id": "JTEZ1IzMVr1c"
   },
   "source": [
    "<h1> PhySU Python Tutorial 2022-2023</h1>\n",
    "Material Taken from <a href=\"https://colab.research.google.com/drive/19hJcPbFpnKiHnmY33N8uxhTglJPW6ce1\" target=\"_blank\">Basic Physics Python Tutorial</a> by Erik Gillis, with minor adjustments by Wentao Cui (PhySU Academic VP 2020-2021), Amelie Zhang (PhySU Academic VP 2021-2023)"
   ]
  },
  {
   "cell_type": "markdown",
   "metadata": {
    "id": "WcxUCFFJVr1f"
   },
   "source": [
    "<h1> Python and the Jupyter Notebook </h1>\n",
    "\n",
    "<h2> What is Python? </h2>\n",
    "\n",
    "Python is a popular and versatile programming language used for a wide variety of tasks, ranging from software development to data science and machine learning to web development to scientific programming like physics.\n",
    "\n",
    "Compared to other languages it has a simple syntax similar to English, making it quite simple to learn. Furthermore, it is an interpreted language, meaning that code can be executed as soon as it is written.\n",
    "\n",
    "Python can be written in any text editor like as Notepad or vim. Your file can then be run in a Python console. Alternatively, you can write Python in an Integrated Development Environment (IDE) which improves the ease with which you can write/ run code, has a bunch of debugging features, manage large collections of Python files, and so on. These include Spyder, Pycharm, Atom, and so on. In the physics community Spyder is quite popular and used in PHY224, so I'd recommend using that.\n",
    "\n",
    "In this tutorial we will go over the basic functionality of Python, including basic syntax, datatypes, functions, loops and conditionals, working with directories, and reading/ writing data. Basic features of the numpy and matplotlib libraries will also be introduced, most notably the numpy array datatype and basic plotting functions. No previous programming experience is needed!"
   ]
  },
  {
   "cell_type": "markdown",
   "metadata": {
    "id": "U6UmUAMiVr1g"
   },
   "source": [
    "<h2> The Jupyter Notebook </h2>\n",
    "\n",
    "For the purposes of this tutorial, we will be using a Jupyter Notebook. This provides a dynamic environment to write, run, and share code, equipped with rich-text (in the Markdown syntax).\n",
    "\n",
    "The notebook is divided into cells which separate the text you're reading with the code that you run. Below is a code cell. Code cells execute their code, and output whatever you wrote on the last line for you to read. To execute a particular line of code, we click it and hit Control/Command + Enter."
   ]
  },
  {
   "cell_type": "code",
   "execution_count": 1,
   "metadata": {
    "id": "G7gLApL2Vr1h",
    "outputId": "7547a382-15c4-4be8-f04f-cdcd0235b81d"
   },
   "outputs": [
    {
     "name": "stdout",
     "output_type": "stream",
     "text": [
      "Hello World\n"
     ]
    }
   ],
   "source": [
    "print(\"Hello World\")"
   ]
  },
  {
   "cell_type": "markdown",
   "metadata": {
    "id": "SqUD5LXQVr1i"
   },
   "source": [
    "That's the most basic of basic examples, but in the rest of the notebook we'll dive into much more sophisticated applications. To edit any cells, either double-click or press enter."
   ]
  },
  {
   "cell_type": "markdown",
   "metadata": {
    "id": "KcsoGsR4Vr1i"
   },
   "source": [
    "<h1> Data Types </h1>\n",
    "\n",
    "The primary role of computer programs in physics (and elsewhere) is to manipluate and transform data in ways that would be too tedious or complicated for us to do quickly or reliably. To this end, python has a few built-in data types that we'll talk about here."
   ]
  },
  {
   "cell_type": "markdown",
   "metadata": {
    "id": "BNnE7KAaVr1j"
   },
   "source": [
    "<h2> Integers </h2>\n",
    "\n",
    "Are exactly what they sound like. They're used to represent whole numbers and support all the operations that you'd expect from them. Run these code cells as you go to see the output.\n",
    "\n",
    "We can add, subtract, multiply, or divide:"
   ]
  },
  {
   "cell_type": "code",
   "execution_count": 2,
   "metadata": {
    "id": "SEtDho30Vr1j",
    "outputId": "ef41d401-6ddc-4ac8-935f-97c6a6c7f098"
   },
   "outputs": [
    {
     "data": {
      "text/plain": [
       "4"
      ]
     },
     "execution_count": 2,
     "metadata": {},
     "output_type": "execute_result"
    }
   ],
   "source": [
    "2 + 2"
   ]
  },
  {
   "cell_type": "code",
   "execution_count": 3,
   "metadata": {
    "id": "9LxOYE_DVr1k",
    "outputId": "bc96e3ff-d70a-4493-826f-594f08641b18"
   },
   "outputs": [
    {
     "data": {
      "text/plain": [
       "-3"
      ]
     },
     "execution_count": 3,
     "metadata": {},
     "output_type": "execute_result"
    }
   ],
   "source": [
    "7 - 10"
   ]
  },
  {
   "cell_type": "code",
   "execution_count": 4,
   "metadata": {
    "id": "1jSXlNjIVr1l",
    "outputId": "ce3bfdcb-6888-4952-c211-ffc1e689adff"
   },
   "outputs": [
    {
     "data": {
      "text/plain": [
       "12"
      ]
     },
     "execution_count": 4,
     "metadata": {},
     "output_type": "execute_result"
    }
   ],
   "source": [
    "3*4"
   ]
  },
  {
   "cell_type": "code",
   "execution_count": 5,
   "metadata": {
    "id": "Nnt-zjR4Vr1l",
    "outputId": "f2ac9c7d-653d-48bf-972a-580215f8c01f"
   },
   "outputs": [
    {
     "data": {
      "text/plain": [
       "8"
      ]
     },
     "execution_count": 5,
     "metadata": {},
     "output_type": "execute_result"
    }
   ],
   "source": [
    "2**3"
   ]
  },
  {
   "cell_type": "code",
   "execution_count": 6,
   "metadata": {},
   "outputs": [
    {
     "data": {
      "text/plain": [
       "3.0"
      ]
     },
     "execution_count": 6,
     "metadata": {},
     "output_type": "execute_result"
    }
   ],
   "source": [
    "6/2"
   ]
  },
  {
   "cell_type": "code",
   "execution_count": 7,
   "metadata": {
    "id": "7EM3h_iQVr1l",
    "outputId": "ee6b6b19-0af4-4792-fb33-58b579e489fb"
   },
   "outputs": [
    {
     "data": {
      "text/plain": [
       "3.5"
      ]
     },
     "execution_count": 7,
     "metadata": {},
     "output_type": "execute_result"
    }
   ],
   "source": [
    "7/2"
   ]
  },
  {
   "cell_type": "code",
   "execution_count": 8,
   "metadata": {},
   "outputs": [
    {
     "data": {
      "text/plain": [
       "3"
      ]
     },
     "execution_count": 8,
     "metadata": {},
     "output_type": "execute_result"
    }
   ],
   "source": [
    "7//2"
   ]
  },
  {
   "cell_type": "markdown",
   "metadata": {},
   "source": [
    "Note that `//` is integer division which truncates the decimal values."
   ]
  },
  {
   "cell_type": "markdown",
   "metadata": {
    "id": "zmnJnVOMVr1m"
   },
   "source": [
    "That last one was sort of weird though, it has a decimal point where the others don't. This is a good segue to our next data type, which are floating point numbers, or floats."
   ]
  },
  {
   "cell_type": "markdown",
   "metadata": {
    "id": "jvylvoyCVr1m"
   },
   "source": [
    "<h2> Floats </h2>\n",
    "\n",
    "Floats, or floating-point numbers are used to represent any decimal number with presicion limited by your computer hardware. They support all of the arithmetic operations of intergers which we outlined above, but there are a few special integer operations which aren't supported by floats, like integer division and modulus.\n",
    "\n",
    "You get a float by typing in a number followed by a decimal. In the cell below we demonstarte a calculation. Note that Python follows the standard order of operations and that floats and integers are compatible which isn't true of all languages."
   ]
  },
  {
   "cell_type": "code",
   "execution_count": 9,
   "metadata": {
    "id": "BYoxJN8-Vr1m",
    "outputId": "9baaa417-255e-49b9-8452-2e0e850d0339",
    "scrolled": true
   },
   "outputs": [
    {
     "data": {
      "text/plain": [
       "0.19166666666666668"
      ]
     },
     "execution_count": 9,
     "metadata": {},
     "output_type": "execute_result"
    }
   ],
   "source": [
    "(3 + 4.5) * 0.23 / 3.**2"
   ]
  },
  {
   "cell_type": "markdown",
   "metadata": {
    "id": "mnEhYfD5Vr1m"
   },
   "source": [
    "The last number of the decimal isn't excact and that's because the computer only uses so 16 bits to represent the number with. In most applications floating point precision isn't an issue on modern computers.\n",
    "\n",
    "Note that this means floats often can't be compared like integers."
   ]
  },
  {
   "cell_type": "code",
   "execution_count": 10,
   "metadata": {
    "id": "dTicSX5KVr1n",
    "outputId": "7aa31b87-85b8-4359-d5b0-e48879a6801b"
   },
   "outputs": [
    {
     "data": {
      "text/plain": [
       "False"
      ]
     },
     "execution_count": 10,
     "metadata": {},
     "output_type": "execute_result"
    }
   ],
   "source": [
    "3.0 == (27.9/9 - 0.1)"
   ]
  },
  {
   "cell_type": "markdown",
   "metadata": {
    "id": "43t9f0jxVr1n"
   },
   "source": [
    "Instead, we can check if the numbers are within some very small distance of each other by comparing the absoute value of their difference to some very small number."
   ]
  },
  {
   "cell_type": "code",
   "execution_count": 11,
   "metadata": {
    "id": "xB7V-EYSVr1n",
    "outputId": "aeabef0f-4cc0-432f-b3b9-d234449335db"
   },
   "outputs": [
    {
     "data": {
      "text/plain": [
       "True"
      ]
     },
     "execution_count": 11,
     "metadata": {},
     "output_type": "execute_result"
    }
   ],
   "source": [
    "abs(3.0 - (27.9/9 - 0.1)) < 10**(-10)"
   ]
  },
  {
   "cell_type": "markdown",
   "metadata": {
    "id": "1cgLC82JVr1n"
   },
   "source": [
    "`abs` is a **function** that returns the absolute value of an int or float, we'll come back to functions later."
   ]
  },
  {
   "cell_type": "markdown",
   "metadata": {
    "id": "3DRUJpOlVr1o"
   },
   "source": [
    "<h2> Strings </h2>\n",
    "\n",
    "Strings are used to represent text, and they're enclosed in either single or double quotes, depending on if you'd like to use either in your code. The hello world example from before made use of a string.\n",
    "\n",
    "You can also add strings or multiply them:"
   ]
  },
  {
   "cell_type": "code",
   "execution_count": 12,
   "metadata": {
    "id": "JHp6d4S7Vr1o",
    "outputId": "32e14485-1cff-4fa8-c57a-a72104a5f57f"
   },
   "outputs": [
    {
     "data": {
      "text/plain": [
       "'Physics is fun.'"
      ]
     },
     "execution_count": 12,
     "metadata": {},
     "output_type": "execute_result"
    }
   ],
   "source": [
    "'Physics ' + 'is fun.'"
   ]
  },
  {
   "cell_type": "code",
   "execution_count": 13,
   "metadata": {
    "id": "mo4KXSoYVr1o",
    "outputId": "852685fa-8d23-458a-e464-31a905bec374"
   },
   "outputs": [
    {
     "data": {
      "text/plain": [
       "'Python Python Python Python Python Python python.'"
      ]
     },
     "execution_count": 13,
     "metadata": {},
     "output_type": "execute_result"
    }
   ],
   "source": [
    "\"Python \"*6 + 'python.'"
   ]
  },
  {
   "cell_type": "markdown",
   "metadata": {
    "id": "ComlJqQMVr1o"
   },
   "source": [
    "You can also index strings or slice them. To get characters of substrings. It is very important to note that indices start at zero, and go up from there. Other programming languages might do this differently."
   ]
  },
  {
   "cell_type": "code",
   "execution_count": 14,
   "metadata": {
    "id": "Tjc7fd6XVr1o",
    "outputId": "7be380d7-dd68-4723-cf5c-1cfc604b8bed"
   },
   "outputs": [
    {
     "data": {
      "text/plain": [
       "'i'"
      ]
     },
     "execution_count": 14,
     "metadata": {},
     "output_type": "execute_result"
    }
   ],
   "source": [
    "\"this is a string\"[2]"
   ]
  },
  {
   "cell_type": "code",
   "execution_count": 15,
   "metadata": {
    "id": "bhvldIJ2Vr1p",
    "outputId": "7c645d2c-f671-41cc-c1ab-dc1ec6bdadde"
   },
   "outputs": [
    {
     "data": {
      "text/plain": [
       "'substr'"
      ]
     },
     "execution_count": 15,
     "metadata": {},
     "output_type": "execute_result"
    }
   ],
   "source": [
    "\"substring\"[0:6]"
   ]
  },
  {
   "cell_type": "markdown",
   "metadata": {
    "id": "zteUFafMVr1p"
   },
   "source": [
    "You can also use negative indices to go back from the end of a string."
   ]
  },
  {
   "cell_type": "code",
   "execution_count": 16,
   "metadata": {
    "id": "MvHRbH3pVr1p",
    "outputId": "4ff1251e-2565-4ec5-b25c-ced3854b9c25"
   },
   "outputs": [
    {
     "data": {
      "text/plain": [
       "'wards'"
      ]
     },
     "execution_count": 16,
     "metadata": {},
     "output_type": "execute_result"
    }
   ],
   "source": [
    "'backwards'[-5:]"
   ]
  },
  {
   "cell_type": "markdown",
   "metadata": {
    "id": "j9PEXNIxVr1p"
   },
   "source": [
    "In the next sections we'll start commenting. Anything with a # before it is a comment and will be ignored by Python."
   ]
  },
  {
   "cell_type": "markdown",
   "metadata": {
    "id": "g-v2_yj1Vr1p"
   },
   "source": [
    "<h2> Lists </h2>\n",
    "\n",
    "Lists are used to present collections of objects. Similar to strings, you can index, slice, and add them."
   ]
  },
  {
   "cell_type": "code",
   "execution_count": 17,
   "metadata": {
    "id": "uiZ7-Iw3Vr1p",
    "outputId": "8cd59158-00fd-4be8-cec1-531d041b79af"
   },
   "outputs": [
    {
     "data": {
      "text/plain": [
       "[1, 2, 3]"
      ]
     },
     "execution_count": 17,
     "metadata": {},
     "output_type": "execute_result"
    }
   ],
   "source": [
    "# List\n",
    "[1, 2, 3, 4][:-1]"
   ]
  },
  {
   "cell_type": "code",
   "execution_count": 18,
   "metadata": {
    "id": "4ZCrJdTKVr1q",
    "outputId": "2bd67849-61f5-4de7-bfea-b283bd809252"
   },
   "outputs": [
    {
     "data": {
      "text/plain": [
       "[1, 2, 3, 4, 5, 'six']"
      ]
     },
     "execution_count": 18,
     "metadata": {},
     "output_type": "execute_result"
    }
   ],
   "source": [
    "[1, 2] + [3, 4] + [5, \"six\"]"
   ]
  },
  {
   "cell_type": "markdown",
   "metadata": {
    "id": "NXim0tBGVr1q"
   },
   "source": [
    "<h2> Booleans </h2>\n",
    "\n",
    "Booleans are probably the simplest data type. They can be either `True` or `False`. You get them by putting logical statements into Python. For example, booleans come up when you compare numbers using equalities and inequalities."
   ]
  },
  {
   "cell_type": "code",
   "execution_count": 19,
   "metadata": {
    "id": "BmQcd9QeVr1q",
    "outputId": "d10f58ee-7476-4f7a-b2ef-a2b9f891ccec"
   },
   "outputs": [
    {
     "data": {
      "text/plain": [
       "True"
      ]
     },
     "execution_count": 19,
     "metadata": {},
     "output_type": "execute_result"
    }
   ],
   "source": [
    "1 < 2"
   ]
  },
  {
   "cell_type": "code",
   "execution_count": 20,
   "metadata": {
    "id": "zTIHsJ6vVr1q",
    "outputId": "76f4e710-5c45-465e-e419-245a6e183a6f"
   },
   "outputs": [
    {
     "data": {
      "text/plain": [
       "False"
      ]
     },
     "execution_count": 20,
     "metadata": {},
     "output_type": "execute_result"
    }
   ],
   "source": [
    "3 >= 4"
   ]
  },
  {
   "cell_type": "code",
   "execution_count": 21,
   "metadata": {
    "id": "6UbFBQCQVr1q",
    "outputId": "2f51365d-bb87-4ca4-bbc9-a1c5fbc97a06"
   },
   "outputs": [
    {
     "data": {
      "text/plain": [
       "False"
      ]
     },
     "execution_count": 21,
     "metadata": {},
     "output_type": "execute_result"
    }
   ],
   "source": [
    "5 != 2 + 3"
   ]
  },
  {
   "cell_type": "code",
   "execution_count": 22,
   "metadata": {
    "id": "Usty0y1xVr1r",
    "outputId": "221d0359-b54e-4ff8-a34a-2a117a9c40c7"
   },
   "outputs": [
    {
     "data": {
      "text/plain": [
       "True"
      ]
     },
     "execution_count": 22,
     "metadata": {},
     "output_type": "execute_result"
    }
   ],
   "source": [
    "3*3 == 9"
   ]
  },
  {
   "cell_type": "markdown",
   "metadata": {
    "id": "GL1jVeOJVr1r"
   },
   "source": [
    "Booleans also have logical operators `and` and `or`. These let you evaluate the truth of boolean expressions strung together. In the case of `or`, only one side needs to be true to return `True`, but in the case of and both beed be true to return `True`."
   ]
  },
  {
   "cell_type": "code",
   "execution_count": 23,
   "metadata": {
    "id": "fIkRswedVr1r",
    "outputId": "894c966c-85fc-4802-e692-68ffe02e01bb"
   },
   "outputs": [
    {
     "data": {
      "text/plain": [
       "True"
      ]
     },
     "execution_count": 23,
     "metadata": {},
     "output_type": "execute_result"
    }
   ],
   "source": [
    "2 < 3 or 5 == 1"
   ]
  },
  {
   "cell_type": "markdown",
   "metadata": {
    "id": "-vz009i0Vr1r"
   },
   "source": [
    "You can also use the equality operator for any data type. Something interesting about that last bit of syntax is the fact that two equals signs were used. One equals sign means something completely different in python, which we'll cover in the next section."
   ]
  },
  {
   "cell_type": "markdown",
   "metadata": {
    "id": "_UCdXCX_Vr1r"
   },
   "source": [
    "<h1> Variables and Assignment </h1>\n",
    "\n",
    "All of this data representation is useless if we can't store and manipulate information. This is where variable assignment comes in, and the syntax is very similar to what you would do in an actual physics problem. If the last line of the cell is a variable, the output of the cell will be whatever object that variable is pointing to."
   ]
  },
  {
   "cell_type": "code",
   "execution_count": 24,
   "metadata": {
    "id": "HWHTOaf0Vr1r",
    "outputId": "c91fdff7-7f63-42f7-c47a-49da88336079"
   },
   "outputs": [
    {
     "data": {
      "text/plain": [
       "86400"
      ]
     },
     "execution_count": 24,
     "metadata": {},
     "output_type": "execute_result"
    }
   ],
   "source": [
    "minutes_in_a_day = 24*60*60\n",
    "minutes_in_a_day"
   ]
  },
  {
   "cell_type": "markdown",
   "metadata": {
    "id": "UKQANJBfVr1r"
   },
   "source": [
    "Some objects can be changed after assignment because of how python memory management is deigned. This is mostly up to experimentation, and there's subltely and nuance that I won't explain here."
   ]
  },
  {
   "cell_type": "code",
   "execution_count": 25,
   "metadata": {
    "id": "MsfkaWJMVr1r",
    "outputId": "ecd24a53-0e47-4cf9-bfe6-420948d0df45"
   },
   "outputs": [
    {
     "name": "stdout",
     "output_type": "stream",
     "text": [
      "2\n",
      "1\n",
      "[1, 2, 3, 4]\n",
      "[1, 2, 3, 4]\n"
     ]
    }
   ],
   "source": [
    "# integers cannot be mutated\n",
    "a = 1\n",
    "b = a\n",
    "a += 1\n",
    "\n",
    "print(a)\n",
    "print(b)\n",
    "\n",
    "# lists can though\n",
    "l1 = [1, 2, 3]\n",
    "l2 = l1\n",
    "l1 += [4]\n",
    "\n",
    "print(l1)\n",
    "print(l2)"
   ]
  },
  {
   "cell_type": "markdown",
   "metadata": {
    "id": "o6xxlWlzVr1s"
   },
   "source": [
    "The `+=` operator tells python to take the original variable and add whatever's on the other side. In most cases `a = a + 1` and `a += 1` are identical, but not with lists and other mutable data. The only mutable data typbe we've introduced up to now are lists."
   ]
  },
  {
   "cell_type": "markdown",
   "metadata": {
    "id": "1lrsLdtaVr1s"
   },
   "source": [
    "<h1> Basic Syntax: Errors, Loops, Conditionals </h1>\n",
    "\n",
    "Now we're ready to start writing some very basic scripts, but we'll still be very limited in what we can do. "
   ]
  },
  {
   "cell_type": "markdown",
   "metadata": {
    "id": "IKM7uz7FVr1s"
   },
   "source": [
    "<h2> Errors </h2>\n",
    "\n",
    "You can write any text, save it as a `.py` file and run it if you have python installed. There's nothing stopping you from doing that, but it very likely will not run. This is because Python code needs to follow a very particular syntax for the computer to understand and execute. If python runs into an issue in the syntax and cannot interpret what you've written, it will stop the program and do it's best to tell you why and where it stopped in the form of an error report. Run the cell below to see what I mean. Can you spot the mistake before it runs?"
   ]
  },
  {
   "cell_type": "code",
   "execution_count": 26,
   "metadata": {
    "id": "HMrOjeYIVr1s",
    "outputId": "c2ca770e-76c6-4366-f75f-b91797b02928"
   },
   "outputs": [
    {
     "ename": "TypeError",
     "evalue": "unsupported operand type(s) for +: 'int' and 'str'",
     "output_type": "error",
     "traceback": [
      "\u001b[1;31m---------------------------------------------------------------------------\u001b[0m",
      "\u001b[1;31mTypeError\u001b[0m                                 Traceback (most recent call last)",
      "Input \u001b[1;32mIn [26]\u001b[0m, in \u001b[0;36m<cell line: 3>\u001b[1;34m()\u001b[0m\n\u001b[0;32m      1\u001b[0m a \u001b[38;5;241m=\u001b[39m \u001b[38;5;241m1\u001b[39m\n\u001b[0;32m      2\u001b[0m b \u001b[38;5;241m=\u001b[39m \u001b[38;5;124m'\u001b[39m\u001b[38;5;124mtwo\u001b[39m\u001b[38;5;124m'\u001b[39m\n\u001b[1;32m----> 3\u001b[0m c \u001b[38;5;241m=\u001b[39m \u001b[43ma\u001b[49m\u001b[43m \u001b[49m\u001b[38;5;241;43m+\u001b[39;49m\u001b[43m \u001b[49m\u001b[43mb\u001b[49m\n\u001b[0;32m      5\u001b[0m \u001b[38;5;28mprint\u001b[39m(c)\n",
      "\u001b[1;31mTypeError\u001b[0m: unsupported operand type(s) for +: 'int' and 'str'"
     ]
    }
   ],
   "source": [
    "a = 1\n",
    "b = 'two'\n",
    "c = a + b\n",
    "\n",
    "print(c)"
   ]
  },
  {
   "cell_type": "markdown",
   "metadata": {
    "id": "XoDpb_5HVr1s"
   },
   "source": [
    "Python is great, but it's not quite Wolfram|Alpha and doesn't do that whole natural language processing thing. This means that you can't really add ints to strings (unfortunately)."
   ]
  },
  {
   "cell_type": "markdown",
   "metadata": {
    "id": "wKSdVziEVr1s"
   },
   "source": [
    "<h2> Conditionals: if/else blocks </h2>\n",
    "\n",
    "Sometimes you'll only want code to be executed given certain conditions, basically if x: do y, else do z. It can also help us catch errors in our code. Trying to divide by zero is impossible:"
   ]
  },
  {
   "cell_type": "code",
   "execution_count": null,
   "metadata": {
    "id": "BAOfGTDwVr1s",
    "outputId": "1ce709cb-d07c-49a6-82f0-992790e16fdc"
   },
   "outputs": [],
   "source": [
    "# Run this without changing and see what happens\n",
    "numerator = 1\n",
    "denominator = 0\n",
    "\n",
    "//numerator / denominator"
   ]
  },
  {
   "cell_type": "markdown",
   "metadata": {
    "id": "NsLo37GNVr1t"
   },
   "source": [
    "We can check to see if `denominator` is valid using an `if/else` block (the print statement is necessary to see the output here):"
   ]
  },
  {
   "cell_type": "code",
   "execution_count": null,
   "metadata": {
    "id": "qc2fu1A4Vr1t",
    "outputId": "b4d30eb1-0576-4031-a6f9-0cb0aee44e1d"
   },
   "outputs": [],
   "source": [
    "# Set variables to divide\n",
    "denominator = 0\n",
    "numerator = 4\n",
    "\n",
    "# Check if we may get an error\n",
    "if denominator != 0:\n",
    "    answer = numerator/denominator\n",
    "    print(answer)\n",
    "else:\n",
    "    print(\"Cannot divide by zero.\")"
   ]
  },
  {
   "cell_type": "markdown",
   "metadata": {
    "id": "4rQ2fqO4Vr1t"
   },
   "source": [
    "Indent the block of code that you would like to be covered by the `if/else` block. If there are many conditions you would like to check you can link them together as booleans with the `and` and `or` operators."
   ]
  },
  {
   "cell_type": "markdown",
   "metadata": {
    "id": "vMDvnNyWVr1t"
   },
   "source": [
    "<h1> Loops </h1>\n",
    "\n",
    "Sometimes there's code that you'd like to run over and over. It would be tedious to copy and paste lines, which is why we have loops. Once you are in a loop the code executes until a certain condition is met. There are two types, `for` loops and `while` loops.\n",
    "\n",
    "`While` loops start with a condition and the loop keeps repeating until the conditon if met. The condition is only checked at the start of the loop. Below is a very simple loop. Try changing `number` to examine the condition.\n",
    "\n",
    "I'll use the `print` function which I'll cover in the next section to output number in every loop."
   ]
  },
  {
   "cell_type": "code",
   "execution_count": null,
   "metadata": {
    "id": "j-mnMEgYVr1t",
    "outputId": "786ace30-678c-40a2-80b8-fc0734a58690"
   },
   "outputs": [],
   "source": [
    "number = 0\n",
    "\n",
    "while number < 10:\n",
    "    number += 1\n",
    "    print(number)\n",
    "\n",
    "number"
   ]
  },
  {
   "cell_type": "markdown",
   "metadata": {
    "id": "9tSapdpuVr1t"
   },
   "source": [
    "`for` loops work over iterables, or objects with multiple elements like\n",
    "* List item\n",
    "* List item\n",
    "\n",
    "strings or lists. Consider the following example:"
   ]
  },
  {
   "cell_type": "code",
   "execution_count": null,
   "metadata": {
    "id": "EjpG5NJWVr1t",
    "outputId": "73f7a9ca-d6b8-4cd2-a596-c2b63140b86e"
   },
   "outputs": [],
   "source": [
    "word = 'letters'\n",
    "some_words = ['here', 'are', 'some', 'words']\n",
    "\n",
    "for letter in word:\n",
    "    print(letter)\n",
    "\n",
    "for word in some_words:\n",
    "    print(word)\n",
    "\n",
    "for i in range(0,10,3):\n",
    "    print(i)"
   ]
  },
  {
   "cell_type": "markdown",
   "metadata": {
    "id": "7gF5_ZkLVr1u"
   },
   "source": [
    "In the loop, each item in the iterable is assigned to the variable at the top. In the case of the second `for` loop, the variable is `word` which takes the value of each item in `some_words`. What do you think the variable word refers to after this code excecutes?\n",
    "\n",
    "Using indexing, think about how you could change both of the above `for` loops into a `while` loop."
   ]
  },
  {
   "cell_type": "markdown",
   "metadata": {
    "id": "5-lC4ZCLVr1u"
   },
   "source": [
    "<h1> Functions and Methods </h1>\n",
    "\n",
    "You may already be thinking about useful physics things that you could do with the things that we've covered. You can save processes that are useful in objects called functions. They're very similar to mathematical functions in that they can take arguments and return an output. You've aready seen the print function, but here's the syntax for defining a very simple one."
   ]
  },
  {
   "cell_type": "code",
   "execution_count": null,
   "metadata": {
    "id": "glMA08eqVr1u",
    "outputId": "1c7fbc56-6852-434f-cc4e-cd6a8a978c0a"
   },
   "outputs": [],
   "source": [
    "def days_to_seconds(days):\n",
    "    seconds = days*24*60*60\n",
    "    return seconds\n",
    "\n",
    "# def days_to_minutes(days):\n",
    "#     minutes = days*24*60\n",
    "#     return minutes\n",
    "\n",
    "minutes = days_to_seconds(4)/60\n",
    "minutes"
   ]
  },
  {
   "cell_type": "markdown",
   "metadata": {
    "id": "fxw-tNaNVr1u"
   },
   "source": [
    "Functions aren't just limited to one argument either, and if you want to write a description of your function, you can enclose it in triple quotes after the header."
   ]
  },
  {
   "cell_type": "code",
   "execution_count": null,
   "metadata": {
    "id": "r4djtl7pVr1u",
    "outputId": "3cfd2627-8b46-47df-f5aa-0eed646f42ab"
   },
   "outputs": [],
   "source": [
    "def compute_hypotenuse(a: int, b: int):\n",
    "    \"\"\"Return the hypotenuse of a triangle with short\n",
    "    sides a and b\n",
    "    \"\"\"\n",
    "    return (a**2 + b**2)**(1/2)\n",
    "\n",
    "compute_hypotenuse(3, 4)"
   ]
  },
  {
   "cell_type": "markdown",
   "metadata": {
    "id": "3vH07mVuVr1u"
   },
   "source": [
    "The following computes the first `n` Fibonacci numbers."
   ]
  },
  {
   "cell_type": "code",
   "execution_count": null,
   "metadata": {
    "id": "wCiKzyIRVr1u",
    "outputId": "50094600-e374-4876-d542-476da675a7f9"
   },
   "outputs": [],
   "source": [
    "def fib(n):\n",
    "    if n == 1 or n == 2:\n",
    "        return 1\n",
    "    \n",
    "    fib_numbers = [1,1]\n",
    "    for i in range(2,n):\n",
    "        fib_numbers.append(fib_numbers[-1] + fib_numbers[-2])\n",
    "        print(fib_numbers)\n",
    "    \n",
    "    return fib_numbers[-1]\n",
    "\n",
    "fib(15)"
   ]
  },
  {
   "cell_type": "markdown",
   "metadata": {
    "id": "K7cAXmPeVr1v"
   },
   "source": [
    "<h2> Useful Built-In Functions </h2>\n",
    "\n",
    "Python has a few functions built in already and some are particularly useful.\n",
    "\n",
    "The `print` function is the easiest way to output the value of something while your code is running and normally (in a regular python file) it's the easiest way to get quick results from the command line. It also lets you get multiple outputs of a cell here."
   ]
  },
  {
   "cell_type": "code",
   "execution_count": null,
   "metadata": {
    "id": "48wGruXOVr1v",
    "outputId": "bffcee68-7809-4447-9f45-bdca96b123e2"
   },
   "outputs": [],
   "source": [
    "physicists = ['Newton', 'Feynman', 'Boltzmann', 'Noether', 'Einstein', 'Dirac']\n",
    "\n",
    "for physicist in physicists:\n",
    "    print(physicist)"
   ]
  },
  {
   "cell_type": "markdown",
   "metadata": {
    "id": "U7uW09FrVr1v"
   },
   "source": [
    "In this case, the `print` function prints every string in the list as I feed it into print. `print` is also useful for debugging because you can find the value of a variable in the middle of your code to see if it's erroneous."
   ]
  },
  {
   "cell_type": "markdown",
   "metadata": {
    "id": "4G1i206yVr1v"
   },
   "source": [
    "When writing `for` loops, it's sometimes useful to go over indexes of a certain object instead of the actual elements in the object. In the next example I'm going to use three builtin functions: `len`, `range`, and `str`."
   ]
  },
  {
   "cell_type": "code",
   "execution_count": null,
   "metadata": {
    "id": "1TOR0uzPVr1v",
    "outputId": "4b4a1ff5-0ecf-4282-ee32-950780bcad71"
   },
   "outputs": [],
   "source": [
    "birth_year = [1643, 1918, 1844, 1882, 1879, 1902]\n",
    "physicist = ['Newton', 'Feynman', 'Boltzmann', 'Noether', 'Einstein', 'Dirac']\n",
    "\n",
    "for i in range(len(birth_year)):\n",
    "    print(i)\n",
    "    print(f'{physicist[i]} was born in {birth_year[i]}')"
   ]
  },
  {
   "cell_type": "markdown",
   "metadata": {
    "id": "SGa9mk_dVr1v"
   },
   "source": [
    "In this example, we used the `range` function to get us number i from 0 up to but not including the number that we get by applying `len` to `birth_year`, which is 5. This lets us index to two lists together and extract the information we want from them.\n",
    "\n",
    "Finally, the `str` function converts any object into a string representation of that object so it can be added to other strings.\n",
    "\n",
    "There are other builtin functions and a full list can be found here\n",
    "https://docs.python.org/3/library/functions.html\n",
    "\n",
    "If you ever want to know about a function you can call `help(function)`"
   ]
  },
  {
   "cell_type": "code",
   "execution_count": null,
   "metadata": {
    "id": "6QOuC1ocVr1v",
    "outputId": "17204232-4798-4b9a-c37a-559d82e54915"
   },
   "outputs": [],
   "source": [
    "# Like with the len function\n",
    "print(help(len))\n",
    "\n",
    "# Or the function we wrote already\n",
    "print(help(compute_hypotenuse))"
   ]
  },
  {
   "cell_type": "code",
   "execution_count": null,
   "metadata": {
    "id": "CiEylAaHVr1v",
    "outputId": "7bcf005b-0a62-4276-9e61-fcff77094e2c"
   },
   "outputs": [],
   "source": [
    "def days_to_seconds(days):\n",
    "    seconds = days*24*60*60\n",
    "    return seconds\n",
    "\n",
    "days = int(input(\"Input days: \"))\n",
    "print(days_to_seconds(days))"
   ]
  },
  {
   "cell_type": "markdown",
   "metadata": {
    "id": "hDw9kcqAVr1w"
   },
   "source": [
    "<h2> Methods </h2>\n",
    "\n",
    "Methods are like functions, but they operate on certain objects. Creating your own methods is beyond the scope of this tutorial, but we'll highlight a few and see how they work."
   ]
  },
  {
   "cell_type": "code",
   "execution_count": null,
   "metadata": {
    "id": "g3YWB4C0Vr1w",
    "outputId": "78bf5f98-1f1e-4484-9d65-61dd3f632816"
   },
   "outputs": [],
   "source": [
    "# A string method\n",
    "a = 'banana'\n",
    "b = a.replace('a', 'n')\n",
    "print(a, b)"
   ]
  },
  {
   "cell_type": "markdown",
   "metadata": {
    "id": "y8lf_tttVr1w"
   },
   "source": [
    "The replace method works on a string, and returns a new string whith all the instances of the first string replaced with the second string. Note that this doesn't change the string that a refers to, it creates a new one. We can do it with bigger substrings too."
   ]
  },
  {
   "cell_type": "code",
   "execution_count": null,
   "metadata": {
    "id": "gSU8L_3PVr1w",
    "outputId": "03ed4487-768c-41f0-956c-d8682d39ccc1"
   },
   "outputs": [],
   "source": [
    "'one two one two'.replace('one', 'two')"
   ]
  },
  {
   "cell_type": "markdown",
   "metadata": {
    "id": "EvSrFeR1Vr1w"
   },
   "source": [
    "Remember how I said that lists can be changed? There are also methods to help with that."
   ]
  },
  {
   "cell_type": "code",
   "execution_count": null,
   "metadata": {
    "id": "X55Ie1CMVr1w",
    "outputId": "8a42c919-82f9-4122-e8de-519ca9566330"
   },
   "outputs": [],
   "source": [
    "shopping_list = ['bread', 'eggs', 'milk']\n",
    "shopping_list.append('cheese')\n",
    "shopping_list"
   ]
  },
  {
   "cell_type": "markdown",
   "metadata": {
    "id": "4eMKNTP5Vr1w"
   },
   "source": [
    "<h1> Importing Packages </h1>\n",
    "\n",
    "Writing your own code is great, but wouldn't it be great if you could save youself hours of programming work with a little bit of googling and experimenting? Adding and multiplying numbers is all fine, but say you wanted to do use a trigonometric function. That's where packages come in, they let you import functions and variables into your code. If I wanted to compute  $cos(2π/3)$, I could write a function, define `pi` and output the result."
   ]
  },
  {
   "cell_type": "markdown",
   "metadata": {},
   "source": [
    "The taylor series expansion of cosine is\n",
    "$$\n",
    "\\begin{align*}\n",
    "    cos &= 1 - \\frac{x^2}{2!} + \\frac{x^4}{4!} - \\frac{x^6}{6!} + ...\\\\\n",
    "    &= \\sum_{k = 0}^{\\infty}(-1)^k \\frac{x^{2k}}{(2k)!}\n",
    "\\end{align*}\n",
    "$$"
   ]
  },
  {
   "cell_type": "code",
   "execution_count": null,
   "metadata": {
    "id": "YWBeQvgNVr1x",
    "outputId": "d6bd9c27-4bb6-494f-ca02-b7758bb16679"
   },
   "outputs": [],
   "source": [
    "pi = 3.14159265\n",
    "\n",
    "def cos(theta):\n",
    "    # Coding practice, if we wanted to use this function elsewhere, \n",
    "    # we don't know if pi is necissarily defined in the namespace yet.\n",
    "    pi = 3.14159265\n",
    "\n",
    "    # look up the modulo operator.\n",
    "    # This puts theta in the set [-pi, pi) because cos is periodic, \n",
    "    # and it's necessary for the next step to work over all reals\n",
    "    theta = (theta + pi) % (2*pi) - pi\n",
    "    \n",
    "    # I'm using the cosine taylor series: it's what most computers do (I think)\n",
    "    return 1 - theta**2/2 + theta**4/24 - theta**6/720 + theta**8/40320 - theta**10/3628800\n",
    "\n",
    "cos(2*pi/3)"
   ]
  },
  {
   "cell_type": "markdown",
   "metadata": {
    "id": "_rfELODvVr1x"
   },
   "source": [
    "Now, there's nothing strictly wrong with this code. It's accurate to 1 part in 50,000 and we could make it more accurate by extending our Taylor series and defining `pi` with more decimals. But the implementation requires some sophisticated math. We could just use prewritten code, like the `pi` variable and the `cos` function in the `math` module."
   ]
  },
  {
   "cell_type": "code",
   "execution_count": null,
   "metadata": {
    "id": "fVlOKFC2Vr1x",
    "outputId": "732e1554-f34b-4982-9dcc-9d8a8317a6a3"
   },
   "outputs": [],
   "source": [
    "from math import cos, pi\n",
    "\n",
    "cos(2*pi/3)"
   ]
  },
  {
   "cell_type": "markdown",
   "metadata": {
    "id": "8qxi_L0GVr1x"
   },
   "source": [
    "This simple example illustrates that importing code is necessary for a lot of elementary applications. There are a few other ways to import. You can import the whole package into your namespace using the wildcard `*` (anybody who knows bash should be very familiar with this one)."
   ]
  },
  {
   "cell_type": "code",
   "execution_count": null,
   "metadata": {
    "id": "U4SgX4tVVr1x",
    "outputId": "2b8ee4e8-d0da-4844-b3ba-e41f5903a8f8"
   },
   "outputs": [],
   "source": [
    "from math import *\n",
    "\n",
    "sqrt(sin(tau/4))"
   ]
  },
  {
   "cell_type": "markdown",
   "metadata": {
    "id": "Cjgs2I00Vr1x"
   },
   "source": [
    "We didn't specifically ask for `sqrt`, `sin` or `tau`, but it turns out they're all either functions or variables in the `math` package. When we write `import *` we import everything from that package into our program. This is generally considered sloppy practice, and should be avioded because it can be memory intensive and you can't really keep track of what variables are in your main namespace. But it's good for quick jobs.\n",
    "\n",
    "The third option is considered best practice if you want to import a whole package."
   ]
  },
  {
   "cell_type": "code",
   "execution_count": null,
   "metadata": {
    "id": "fQUxR2alVr1y",
    "outputId": "95d8d0ce-9dee-4d69-ce36-6c9f845ae246"
   },
   "outputs": [],
   "source": [
    "import math as m\n",
    "\n",
    "m.tan(m.e)"
   ]
  },
  {
   "cell_type": "markdown",
   "metadata": {
    "id": "mKng0RVVVr1y"
   },
   "source": [
    "Now you can access everything in the math package, and there's no chance of accidentally overwriting one of the functions or variables you imported."
   ]
  },
  {
   "cell_type": "markdown",
   "metadata": {
    "id": "7CWZIv2uVr1y"
   },
   "source": [
    "<h1> Solving Problems with Basic Python </h1>\n",
    "\n",
    "We now have all the tools we need to start solving basic physics problems. As an introduction to computational physics, we'll start wih a simple problem. Consider a ball dropped from height h. How long does the ball take to hit the ground?\n",
    "\n",
    "Normally we'd set up a kinematic algebraic equation and solve to find find that \n",
    "$$\n",
    "t = \\sqrt{\\frac{2h}{g}}\n",
    "$$\n",
    "But it turns out for many physical applications a closed form analytic solution like this isn't actually possible (which means you can't write it on paper using basic functions). To this end, we can simulate the velocity and position of the ball and **time evolve** the quantities. \n",
    "\n",
    "Consider a particle with position $x(t)$, and velocity $v(t)$, accelerating at acceleration $a$. If we took a very small timestep $\\Delta t$ we can write an equation for velocity as\n",
    "$$\n",
    "v(t+\\Delta t) = v(t) + a\\Delta t\n",
    "$$\n",
    "And we can write our position as \n",
    "$$\n",
    "x(t + \\Delta t) = x(t) + v(t)\\Delta t + \\frac{1}{2}a \\Delta t^2\n",
    "$$\n",
    "\n",
    "Thinking about that last equation for position, since $\\Delta t$ is very small, $\\Delta t^2$ is very very small (I promise these are technical terms). Because $\\Delta t^2$ is small compared to $\\Delta t$ we can neglect it and approximate our position equation as\n",
    "$$\n",
    "x(t + \\Delta t) \\approx x(t) + v(t)\\Delta t\n",
    "$$\n",
    "\n",
    "In other terms, if we know some $v_1$ and $x_1$ at time $t_1$ for some particle accelerating with acceleration $a$ we can compute the time, velocity and position, $t_2$, $v_2$ and $x_2$, at some small time later as\n",
    "$$\n",
    "v_2 = v_1 + a\\Delta t \\\\\n",
    "x_2 = x_1 + v_1\\Delta t \\\\\n",
    "t_2 = t_1 + \\Delta t\n",
    "$$ \n",
    "\n",
    "\n",
    "For our actual ball, we'll start with $t=0 \\, \\text{s}$, $x = h$, $v = 0 \\, \\text{m/s}$, and $a = -9.8 \\, \\text{m/s}^2$. Once we'll set these variables, we'll run a while loop that will update our position, velocity and time until position is less than zero (so the ball has gone slightly past the ground). Once the loop exits we'll print the time and compare to the analytic solution. In the cell below we set $h = 10 \\, m$ for our initial $x$ position and run:"
   ]
  },
  {
   "cell_type": "code",
   "execution_count": null,
   "metadata": {
    "id": "eEEWSpSvVr1y",
    "outputId": "e6f575c4-55c0-4579-e8ef-81db72bf2bd2"
   },
   "outputs": [],
   "source": [
    "# Assign initial conditions\n",
    "x = 10\n",
    "v = 0\n",
    "t = 0\n",
    "a = -9.8\n",
    "delta_t = 0.01\n",
    "\n",
    "# Compute the solution to compare against\n",
    "actual_solution = (2*x/(-a))**0.5\n",
    "\n",
    "# Run a loop\n",
    "while x > 0:\n",
    "    v = v + a * delta_t\n",
    "    x = x + v * delta_t\n",
    "    t = t + delta_t\n",
    "\n",
    "# Print outputs an compare\n",
    "print('Simulated Time ' + str(t))\n",
    "print('Analytic Time ' + str(actual_solution))"
   ]
  },
  {
   "cell_type": "markdown",
   "metadata": {
    "id": "c1vFmZB-Vr1y"
   },
   "source": [
    "If we make our timestep smaller, it will cause our code to take more time, but it will give us a more accurate result. Don't make it too small, or your code will take far too long to run."
   ]
  },
  {
   "cell_type": "markdown",
   "metadata": {
    "id": "K3KvPvrMVr1y"
   },
   "source": [
    "<h1> Numpy </h1>\n",
    "\n",
    "The numpy package is indespensible for anyone in any scientific application of Python.\n",
    "\n",
    "Not only does numpy give a suite of tools that are lightning fast (most of it is written in C) and relatively easy to use for numerical computations, but most other packages that are used for scientific computing are built directly onto numpy. I'll take this section to go over the ubiquitous numpy array that the package provides. We will further discuss some useful functions.\n",
    "\n",
    "<h2> The Numpy Array </h2>"
   ]
  },
  {
   "cell_type": "code",
   "execution_count": null,
   "metadata": {
    "id": "68vhFJSjVr1y",
    "outputId": "6a6d27bc-5f20-458a-8ebb-91eb993a4da6"
   },
   "outputs": [],
   "source": [
    " # This is how everyone imports numpy\n",
    "import numpy as np\n",
    "\n",
    "a = np.array([1, 2, 3])\n",
    "b = np.array([3, 1, 2])\n",
    "print(a)\n",
    "print(b)\n",
    "print(\"---------------\")\n",
    "\n",
    "\n",
    "# Some array operations:\n",
    "print(a + b)\n",
    "print(2*a)\n",
    "print(a < 2)"
   ]
  },
  {
   "cell_type": "markdown",
   "metadata": {
    "id": "bfgh1bCaVr1y"
   },
   "source": [
    "Arrays are used to represent collections of numbers in a certain shape and are pretty ubiquitous in scientific computation. Generally, any numerical data can be represented as an array if a single number wont do. If I wanted a relationship between an `x` and `y`, I could create an array of x's and apply a function to generate y's. I'll also use the `arange` function to generate evenly spaced points."
   ]
  },
  {
   "cell_type": "code",
   "execution_count": null,
   "metadata": {
    "id": "xnDpyVJGVr1z",
    "outputId": "a6bb4f15-6504-496c-da15-08dd43932772"
   },
   "outputs": [],
   "source": [
    "x = np.arange(0, 5, 0.1)\n",
    "\n",
    "def f(x):\n",
    "    return x**2\n",
    "\n",
    "y = f(x)\n",
    "\n",
    "print(x)\n",
    "print(y)"
   ]
  },
  {
   "cell_type": "code",
   "execution_count": null,
   "metadata": {
    "id": "UqK-YgR5Vr1z",
    "outputId": "aed26624-e8d6-4603-b0f0-2147ddb4a9c2"
   },
   "outputs": [],
   "source": [
    "np.zeros(7)"
   ]
  },
  {
   "cell_type": "markdown",
   "metadata": {
    "id": "LGfxJ8z5Vr1z"
   },
   "source": [
    "Now we have two array, one representing the input of a function and another representing the output. You can't always apply functions to arrays like this, sometimes you will need to use a loop and index. For one dimensional arrays, indexing works exactly like lists."
   ]
  },
  {
   "cell_type": "markdown",
   "metadata": {
    "id": "wr0tqLykVr1z"
   },
   "source": [
    "<h2> The Same Physics Problem </h2>\n",
    "\n",
    "We solved the time-to-fall problem using base python, but it's useful to see how arrays can be applied to the problem as well. To start we'll create empty arrays for position and velocity, and use a time array with evenly spaced points for our time values."
   ]
  },
  {
   "cell_type": "code",
   "execution_count": null,
   "metadata": {
    "id": "HUe6Nf44Vr1z"
   },
   "outputs": [],
   "source": [
    "h = 10\n",
    "dt = 0.01\n",
    "a = -9.8\n",
    "time = np.arange(0, 100, step=dt)  # This gives us an array with values 0 to 100 separated by step dt. \n",
    "                                   # 100 is the upper bound because we want a time that we know we won't reach\n",
    "\n",
    "# Arrays with only zeros the same length as our time array                                    \n",
    "velocity = np.zeros(len(time))\n",
    "position = np.zeros(len(time))\n",
    "\n",
    "# Set initial Values\n",
    "position[0] = h\n",
    "velocity[0] = 0\n",
    "\n",
    "# We want to keep track of where we're at on the arrays so values go in the right place\n",
    "index = 1\n",
    "\n",
    "# While the previous position is above zero\n",
    "while position[index-1] > 0:\n",
    "    \n",
    "    # Get new values using our last values\n",
    "    velocity[index] = velocity[index - 1] + a*dt\n",
    "    position[index] = position[index - 1] + velocity[index - 1]*dt\n",
    "    index += 1\n",
    "\n",
    "# Truncate extra data in arrays after the last index\n",
    "position = position[:index]\n",
    "velocity = velocity[:index]\n",
    "time = time[:index]\n",
    "\n",
    "time\n"
   ]
  },
  {
   "cell_type": "markdown",
   "metadata": {
    "id": "DcIpuy13Vr1z"
   },
   "source": [
    "The data for our entire simulation is now stored in these three arrays. If we wanted to know the time it took to fall we would just index the time array at the final point:"
   ]
  },
  {
   "cell_type": "code",
   "execution_count": null,
   "metadata": {
    "id": "TFYwa_yjVr1z",
    "outputId": "daade887-a4cb-4897-a9b9-ccaf6c88f936"
   },
   "outputs": [],
   "source": [
    "fall_time = time[-1]\n",
    "fall_time"
   ]
  },
  {
   "cell_type": "markdown",
   "metadata": {
    "id": "DuVpst_DVr1z"
   },
   "source": [
    "<h2> Multi-dimensional Arrays </h2>\n",
    "\n",
    "Arrays aren't limited to one dimension. They can come in many shapes and sizes. As well as the values they store, each array has a shape attribute:"
   ]
  },
  {
   "cell_type": "code",
   "execution_count": null,
   "metadata": {
    "id": "IhpSbMJXVr10",
    "outputId": "43fd9d3e-22ab-4d39-8a3f-58c8443c2423"
   },
   "outputs": [],
   "source": [
    "one_d_ones = np.ones(6)\n",
    "print(one_d_ones)\n",
    "print(one_d_ones.shape)"
   ]
  },
  {
   "cell_type": "markdown",
   "metadata": {
    "id": "jrMdljShVr10"
   },
   "source": [
    "The first thing we printed is just the array, and the second thing we printed is its shape attribute. Notice that it's a tuple with just one element. That tells us that the array is one dimensional with length 6 (as you knew). Now:"
   ]
  },
  {
   "cell_type": "code",
   "execution_count": null,
   "metadata": {
    "id": "sZQ9wLa6Vr10",
    "outputId": "82ef5b0c-51a8-4c82-8ad0-5e9f3e7cba04"
   },
   "outputs": [],
   "source": [
    "two_d_ones = one_d_ones.reshape((2, 3))\n",
    "print(two_d_ones)\n",
    "print(two_d_ones.shape)"
   ]
  },
  {
   "cell_type": "markdown",
   "metadata": {
    "id": "Qomd321IVr10"
   },
   "source": [
    "Now we have an array with two rows and three columns with the same data. We can also pass a shape tuple instead of an integer into our array building functions instead of an integer:"
   ]
  },
  {
   "cell_type": "code",
   "execution_count": null,
   "metadata": {
    "id": "6PvcQFXvVr10",
    "outputId": "b4bd790a-ae9e-4053-bc50-9309dd76106b"
   },
   "outputs": [],
   "source": [
    "some_ones = np.ones((2, 4))\n",
    "some_nones = np.zeros((3, 1))\n",
    "some_garbage = np.empty((3, 3))\n",
    "\n",
    "print(some_ones)\n",
    "print(some_nones)\n",
    "print(some_garbage)"
   ]
  },
  {
   "cell_type": "markdown",
   "metadata": {
    "id": "x8PGmFO6Vr10"
   },
   "source": [
    "The shape tuple can have as many dimensions as you want it to, but to keep presentation nice we've limited ourseves to 2D arrays.\n",
    "\n",
    "The last function `np.empty` returns an array with random numbers and it's useful if we know we want to overwrite the whole array. It's also the fastest way of creating an array of a given shape if we want to optimize the runtime of a program.\n",
    "\n",
    "Multidimensional arrays can also be indexed by rows and by columns. Consider the following example:"
   ]
  },
  {
   "cell_type": "code",
   "execution_count": null,
   "metadata": {
    "id": "4n6_Y-MkVr10",
    "outputId": "5a12f47c-2986-4b8a-acd9-2c0ae75b51b0"
   },
   "outputs": [],
   "source": [
    "array_to_index = np.arange(1, 10).reshape((3, 3))\n",
    "print(array_to_index)\n",
    "\n",
    "print('example')\n",
    "\n",
    "print(array_to_index[0:2, 1:3])"
   ]
  },
  {
   "cell_type": "markdown",
   "metadata": {
    "id": "Q-8PnoGhVr11"
   },
   "source": [
    "<h1> Matplotlib </h1>\n",
    "\n",
    "Creating and storing data for a simulation is great, but if we actually want to make use of it we need to be able to represent it visually. The next library we'll talk about is `matplotlib`, more specifically the `pyplot` subpackage. Remember our position and velocity arrays from above? In the cell below we'll make a simple plot."
   ]
  },
  {
   "cell_type": "code",
   "execution_count": null,
   "metadata": {
    "id": "nn8VrvdcVr11",
    "outputId": "f752d6d2-fe5c-462c-b6fb-043693eb3efe"
   },
   "outputs": [],
   "source": [
    "import matplotlib.pyplot as plt   # How everyone does it\n",
    "\n",
    "# Start an empty figure\n",
    "plt.figure()\n",
    "\n",
    "# Plot time as x and position as y\n",
    "plt.plot(time, position)\n",
    "\n",
    "# Give it a title\n",
    "plt.title('Position of a falling object over time')\n",
    "\n",
    "# Label the axes\n",
    "plt.xlabel('time (s)')\n",
    "plt.ylabel('height (m)')\n",
    "\n",
    "# And show to output the figure\n",
    "plt.show()"
   ]
  },
  {
   "cell_type": "markdown",
   "metadata": {
    "id": "7hoQtAz1Vr11"
   },
   "source": [
    "This package works a little bit differently, in that we're not explicitly creating objects and assigning them to variables, but each line does something—or adds something—to the plot. It automatically configures most details, but everything in the plot above can be edited somehow with advanced use of the package.\n",
    "\n",
    "If we wanted to plot something else, we'd start a new figure with a fresh plt.figure(). In the next cell, we'll make two plots : velocity against time and velocity against position."
   ]
  },
  {
   "cell_type": "code",
   "execution_count": null,
   "metadata": {
    "id": "JupajqpwVr11",
    "outputId": "f4648f1c-b869-464a-ee24-4707466b5042"
   },
   "outputs": [],
   "source": [
    "plt.figure()\n",
    "plt.plot(time, velocity)\n",
    "plt.title('Velocity of a falling object over time')\n",
    "plt.xlabel('time (s)')\n",
    "plt.ylabel('velocity (m/s)')\n",
    "plt.show()\n",
    "\n",
    "plt.figure()\n",
    "plt.plot(position, velocity)\n",
    "plt.title('Position against Velocity')\n",
    "plt.xlabel('height (m)')\n",
    "plt.ylabel('velocity (m/s)')\n",
    "plt.show()"
   ]
  },
  {
   "cell_type": "markdown",
   "metadata": {
    "id": "NMXLB6otVr11"
   },
   "source": [
    "<h1> Directories </h1>\n",
    "\n",
    "When you're working on projects, especially when they get fairly large, you'll often need to manage multiple python files, and load or save data.\n",
    "\n",
    "Let's say we have a `.txt` datafile that we want to read, plot the information contained in it, and save the plot as an image file."
   ]
  },
  {
   "cell_type": "code",
   "execution_count": 6,
   "metadata": {
    "id": "KCdDpOTIVr11"
   },
   "outputs": [],
   "source": [
    "file = open(\"data.txt\",\"r\")"
   ]
  },
  {
   "cell_type": "markdown",
   "metadata": {
    "id": "QrVTMVEsVr11"
   },
   "source": [
    "The first argument is the name of the file. If both your datafile and the python file are in the same directory all you need is the name of the file. If not, you need to include the entire path containing the folders it lies in. For example:\n",
    "```\n",
    "\"C:\\Users\\Wentao\\Documents\\2020-2021\\PhySU\\data.txt\"\n",
    "```\n",
    "The second argument corresponds to the access mode, which can be `r` for read-only or `w` for write. We are using the former.\n",
    "\n",
    "Now, we will iterate through the lines of our datafile, and append the x-values to an array called `x`, and the y-values to an array called `y`. We make use of the `split` function, which turns a string into a list, where the elements are determined by being separated by in this case a comma. Note that we must cast our data as integers, since any data from a `.txt` file will be read as a string.\n",
    "\n",
    "It is good practice to close a file after we are done with it."
   ]
  },
  {
   "cell_type": "code",
   "execution_count": null,
   "metadata": {
    "id": "v6URM7EoVr12",
    "outputId": "f2ec418a-0a9a-434d-e0a4-4ad74213eafa"
   },
   "outputs": [],
   "source": [
    "file = open(\"data.txt\",\"r\")\n",
    "x,y = [], []\n",
    "\n",
    "lines = file.readlines()\n",
    "print(lines) # We see the \\n which means next line\n",
    "\n",
    "for line in lines:\n",
    "    line_data = line.split(\",\")\n",
    "    \n",
    "    x.append(int(line_data[0]))\n",
    "    y.append(int(line_data[1]))\n",
    "\n",
    "print(x)\n",
    "print(y)\n",
    "\n",
    "file.close()\n"
   ]
  },
  {
   "cell_type": "markdown",
   "metadata": {
    "id": "RWx69VwiVr12"
   },
   "source": [
    "Next, we plot the out graph, and save it using the `savefig` function below."
   ]
  },
  {
   "cell_type": "code",
   "execution_count": null,
   "metadata": {
    "id": "D5KF26RlVr12",
    "outputId": "b7758e74-995e-49d0-f706-4883cbea125a"
   },
   "outputs": [],
   "source": [
    "plt.figure()\n",
    "plt.plot(x,y)\n",
    "plt.savefig('plot.png')"
   ]
  },
  {
   "cell_type": "markdown",
   "metadata": {},
   "source": [
    "<h1> Curve-Fitting </h1>\n",
    "\n",
    "The next topic that we will discuss is curve-fitting, which some of you are likely familiar with. As such, I'll try to make it brief, while also discussing some nice plotting functions of `matplotlib`.\n",
    "\n",
    "Much of this section draws from https://www.geeksforgeeks.org/scipy-curve-fitting/.\n",
    "\n",
    "We begin by importing the necessary packages. In particular, we will be using the `curve_fit` function from `scipy.optimize`, and the `pyplot` subpackage from `matplotlib`."
   ]
  },
  {
   "cell_type": "code",
   "execution_count": 28,
   "metadata": {},
   "outputs": [],
   "source": [
    "import numpy as np\n",
    "import scipy.optimize\n",
    "\n",
    "# Import the curve-fit() function from scipy \n",
    "from scipy.optimize import curve_fit \n",
    "\n",
    "# Import the pyplot function from matplotlib\n",
    "import matplotlib.pyplot as plt"
   ]
  },
  {
   "cell_type": "markdown",
   "metadata": {},
   "source": [
    "Now, let us create some data. We do this by sampling a sinusoidal function, with random Gaussian noise."
   ]
  },
  {
   "cell_type": "code",
   "execution_count": 29,
   "metadata": {},
   "outputs": [
    {
     "name": "stdout",
     "output_type": "stream",
     "text": [
      "[ 0.92224433  0.95056874  1.84729203  2.92593454  4.28501745  5.2205399\n",
      "  3.06695934  1.0023636   1.97208808  3.03845518  2.312083    1.51341908\n",
      "  0.10477188 -1.84386447 -2.43850558 -3.68729829 -4.27852267 -3.99798709\n",
      " -3.83721596 -3.71506214 -2.14970471 -0.47800764 -1.71506258  0.11002523\n",
      "  1.25359063  0.39184247  2.95798824  1.00307033  5.28347603  1.44633343\n",
      "  3.22101416  3.28555291  3.492465    1.10011529  1.94248778 -0.7160096\n",
      " -1.18474942  0.20464151 -2.93330711 -3.2738706  -2.33558006 -3.40154414\n",
      " -3.29163757 -2.28821921 -0.54342018 -1.01567027  0.95791709  2.00648326\n",
      "  2.05866718  1.99156671]\n"
     ]
    },
    {
     "data": {
      "image/png": "[encoded data removed]",
      "text/plain": [
       "<Figure size 432x288 with 1 Axes>"
      ]
     },
     "metadata": {
      "needs_background": "light"
     },
     "output_type": "display_data"
    }
   ],
   "source": [
    "# Using numpy.linspace with the given arguments to produce an array of 40 numbers between 0 and 10, both inclusive \n",
    "x = np.linspace(0, 10, num = 50)\n",
    "\n",
    "# y is another array which stores 3.45 times the sine of (values in x) * 1.334.  \n",
    "# The random.normal() draws random sample from normal (Gaussian) distribution to make \n",
    "# them scatter across the base line \n",
    "y = 3.45 * np.sin(1.334 * x) + np.random.normal(size = 50) \n",
    "\n",
    "print(y)\n",
    "\n",
    "\n",
    "# We can plot the function to see how it looks\n",
    "plt.plot(x, y, 'o', color ='red', label =\"data\")   \n",
    "plt.legend() \n",
    "plt.show()"
   ]
  },
  {
   "cell_type": "markdown",
   "metadata": {},
   "source": [
    "To perform curve_fit on the given data, we must create a test function with coefficients as parameters. In the following example, our test function is sinusoidal, because we seek to fit a sinusoid to the above data."
   ]
  },
  {
   "cell_type": "code",
   "execution_count": 30,
   "metadata": {},
   "outputs": [],
   "source": [
    "def test(x, a, b):\n",
    "    return a * np.sin(b*x)"
   ]
  },
  {
   "cell_type": "markdown",
   "metadata": {},
   "source": [
    "Now we move onto the main function at hand, or `curve_fit()`. This function takes 3 arguments: the `test`-function, the x-data, and the y-data to be fitted. It returns two things. First, the coefficients `a` and `b` in `param` which correspond to the best-fit curve. The other return is the estimated covariance of `param` in `param_cov`.\n",
    "\n",
    "The diagonal elements of `param_cov` correspond to the standard deviation squared, or the square of the estimated error in fitting `a` and `b` based on the noisiness of the data at hand. Loosely speaking, the off-diagonal elements tell you how much the fitting parameters are correlated. If you want to know more about them, take a statistics course."
   ]
  },
  {
   "cell_type": "code",
   "execution_count": 31,
   "metadata": {},
   "outputs": [
    {
     "name": "stdout",
     "output_type": "stream",
     "text": [
      "Sine funcion coefficients 'a' and 'b':\n",
      "[3.44379655 1.33646955]\n",
      "Covariance of coefficients:\n",
      "[[ 4.34654520e-02 -4.18238501e-05]\n",
      " [-4.18238501e-05  9.40302208e-05]]\n"
     ]
    }
   ],
   "source": [
    "params, param_cov = curve_fit(test, x, y) \n",
    "  \n",
    "print(\"Sine funcion coefficients 'a' and 'b':\")\n",
    "print(params)\n",
    "\n",
    "print(\"Covariance of coefficients:\") \n",
    "print(param_cov)"
   ]
  },
  {
   "cell_type": "markdown",
   "metadata": {},
   "source": [
    "We typically take the square root of the diagnal element of the covariance matrix to be the uncertainty of the coefficients."
   ]
  },
  {
   "cell_type": "code",
   "execution_count": 33,
   "metadata": {},
   "outputs": [
    {
     "name": "stdout",
     "output_type": "stream",
     "text": [
      "The curve fit coefficents are 3.4437965494537055 \\pm 0.2084836970886692 and \n",
      " 1.3364695538954183 \\pm 0.009696918109155999\n"
     ]
    }
   ],
   "source": [
    "print(\"The curve fit coefficents are\", params[0], '\\pm', np.sqrt(param_cov[0,0]), \\\n",
    "      'and \\n', params[1], '\\pm', np.sqrt(param_cov[1,1]))"
   ]
  },
  {
   "cell_type": "markdown",
   "metadata": {},
   "source": [
    "Finally, we plot the best-fit curve with the data:"
   ]
  },
  {
   "cell_type": "code",
   "execution_count": 34,
   "metadata": {},
   "outputs": [
    {
     "data": {
      "image/png": "[encoded data removed]",
      "text/plain": [
       "<Figure size 432x288 with 1 Axes>"
      ]
     },
     "metadata": {
      "needs_background": "light"
     },
     "output_type": "display_data"
    }
   ],
   "source": [
    "# ans stores the new y-data according to the coefficients given by curve-fit() function \n",
    "ans = (params[0] * (np.sin( params[1]*x )))\n",
    "\n",
    "# Plot the optimized data with our original data\n",
    "plt.plot(x, y, 'o', color ='red', label =\"data\") \n",
    "plt.plot(x, ans, '--', color ='blue', label =\"optimized data\") \n",
    "plt.legend() \n",
    "plt.show()"
   ]
  },
  {
   "cell_type": "markdown",
   "metadata": {},
   "source": [
    "Now, consider the same process where instead the original data has a given uncertainty. This will often happen in lab courses where the data you collect will have an inherent uncertainties. Here, assume we have a systematic uncertainty of 0.3 units.\n",
    "\n",
    "Then we can perform curvefit again, noting that `curve_fit` does not take in the x-component uncertainty."
   ]
  },
  {
   "cell_type": "code",
   "execution_count": 36,
   "metadata": {},
   "outputs": [
    {
     "name": "stdout",
     "output_type": "stream",
     "text": [
      "The curve fit coefficents are 3.443796549695636 \\pm 0.20848369728419766 and \n",
      " 1.3364695538735962 \\pm 0.009696918099278137\n"
     ]
    },
    {
     "data": {
      "image/png": "[encoded data removed]",
      "text/plain": [
       "<Figure size 432x288 with 1 Axes>"
      ]
     },
     "metadata": {
      "needs_background": "light"
     },
     "output_type": "display_data"
    }
   ],
   "source": [
    "y_error = np.zeros(len(y))+0.3\n",
    "\n",
    "param_u, param_cov_u = curve_fit(test, x, y, sigma=y_error)\n",
    "\n",
    "\n",
    "# the below code for plotting is the exact same as the above\n",
    "\n",
    "print(\"The curve fit coefficents are\", param_u[0], '\\pm', np.sqrt(param_cov_u[0,0]), \\\n",
    "      'and \\n', param_u[1], '\\pm', np.sqrt(param_cov_u[1,1]))\n",
    "\n",
    "ans_u = (param_u[0]*(np.sin(param_u[1]*x)))\n",
    "\n",
    "# Plot the optimized data with our original data with uncertainty bars\n",
    "plt.errorbar(x, y, yerr=y_error, fmt='o',markersize=3, color ='red', label =\"data\") \n",
    "plt.plot(x, ans, '--', color ='blue', label =\"optimized data\") \n",
    "plt.plot(x, ans_u, '--', color ='green', label =\"optimized data with error\") \n",
    "plt.legend()\n",
    "plt.show()"
   ]
  },
  {
   "cell_type": "markdown",
   "metadata": {},
   "source": [
    "Here you see that the best-fit curve with and without taking into account error practically overlap, but this isn't always the case.\n",
    "\n",
    "Sometimes, the `curve_fit` function cannot figure out the coefficients because they are too big or too small. This is because `curve_fit` function finds the parameters of the test function using gradient descent to find values of the parameters that will minimize some error function between the best-fit curve and the data. However, it may find a local minimum in the parameter space which is not a global minimum. As such, the result returned by the `curve_fit` function will be wrong.\n",
    "\n",
    "For example, consider:"
   ]
  },
  {
   "cell_type": "code",
   "execution_count": 37,
   "metadata": {},
   "outputs": [
    {
     "name": "stdout",
     "output_type": "stream",
     "text": [
      "The curve fit coefficents are -1.4649495932503693 \\pm 0.7872537996728737 and \n",
      " 0.948676066892249 \\pm 0.08857402264177952\n"
     ]
    },
    {
     "data": {
      "image/png": "[encoded data removed]",
      "text/plain": [
       "<Figure size 432x288 with 1 Axes>"
      ]
     },
     "metadata": {
      "needs_background": "light"
     },
     "output_type": "display_data"
    }
   ],
   "source": [
    "# Produce a function with small coefficents\n",
    "y_big = 5.05 * np.sin(0.511 * x) + np.random.normal(size = 50) \n",
    "\n",
    "# Perform curve fit \n",
    "param_big, param_cov_big = curve_fit(test, x, y_big)\n",
    "\n",
    "# plotting stuff, can ignore\n",
    "print(\"The curve fit coefficents are\", param_big[0], '\\pm', np.sqrt(param_cov_big[0,0]), \\\n",
    "      'and \\n', param_big[1], '\\pm', np.sqrt(param_cov_big[1,1]))\n",
    "\n",
    "ans_big = (param_big[0]*(np.sin(param_big[1]*x)))\n",
    "\n",
    "# Plot the optimized data with our original data\n",
    "plt.plot(x, y_big, 'o', color ='red', label =\"data\") \n",
    "plt.plot(x, ans_big, '--', color ='blue', label =\"optimized data\") \n",
    "plt.legend() \n",
    "plt.show() "
   ]
  },
  {
   "cell_type": "markdown",
   "metadata": {},
   "source": [
    "In this case, it is necessary to feed the `curve_fit` function an initial guess. This is given by the `p0` argument. In the following case, based on the data we guess 5 and 0.5 to be the values of `a` and `b`, respectively. The resulting fit is much nicer."
   ]
  },
  {
   "cell_type": "code",
   "execution_count": 38,
   "metadata": {},
   "outputs": [
    {
     "name": "stdout",
     "output_type": "stream",
     "text": [
      "The curve fit coefficents are 5.185829799857247 \\pm 0.1905796423696242 and \n",
      " 0.5273062709389703 \\pm 0.0077420147859775966\n"
     ]
    },
    {
     "data": {
      "image/png": "[encoded data removed]",
      "text/plain": [
       "<Figure size 432x288 with 1 Axes>"
      ]
     },
     "metadata": {
      "needs_background": "light"
     },
     "output_type": "display_data"
    }
   ],
   "source": [
    "param_big_0, param_cov_big_0 = curve_fit(test, x, y_big, p0=[5, 0.5])\n",
    "\n",
    "# plotting stuff, can ignore.\n",
    "\n",
    "print(\"The curve fit coefficents are\", param_big_0[0], '\\pm', np.sqrt(param_cov_big_0[0,0]), \\\n",
    "      'and \\n', param_big_0[1], '\\pm', np.sqrt(param_cov_big_0[1,1]))\n",
    "\n",
    "ans_big_0 = (param_big_0[0]*(np.sin(param_big_0[1]*x)))\n",
    "\n",
    "# Plot the optimized data with our original data\n",
    "plt.plot(x, y_big, 'o', color ='red', label =\"data\") \n",
    "plt.plot(x, ans_big_0, '--', color ='blue', label =\"optimized data\") \n",
    "plt.legend() \n",
    "plt.show() "
   ]
  },
  {
   "cell_type": "markdown",
   "metadata": {},
   "source": [
    "<h1> Fourier Transforms and Signal Processing </h1>\n",
    "\n",
    "Fourier transforms are an indespensible tool for physicists, widespread in the fields ranging from quantum mechanics to electrodynamics to optics and signal processing. Most commonly, it allow us to map a function from the time-domain to the frequency-domain, allowing us to visualize the sinusoidal signals which constitute a given curve.\n",
    "\n",
    "Being so frequently used, we will introduce it here, along with basic elements of signal processing. Much of this section draws from https://docs.scipy.org/doc/scipy/reference/tutorial/fft.html.\n",
    "\n",
    "Fourier analysis is a method for expressing a function as a sum of periodic components, and for recovering the signal from those components. Mathematically it is continuous, but when we compute it using a computer both the function and its Fourier transform are replaced with discretized counterparts, so the process is called the discrete Fourier transform (DFT). The DFT has become a mainstay of numerical computing in part because of a very fast algorithm for computing it, called the Fast Fourier Transform (FFT).\n",
    "\n",
    "To do this, we will use the `fft` function from the `scipy.fft` subpackage."
   ]
  },
  {
   "cell_type": "code",
   "execution_count": null,
   "metadata": {},
   "outputs": [],
   "source": [
    "from scipy.fft import fft"
   ]
  },
  {
   "cell_type": "markdown",
   "metadata": {},
   "source": [
    "We will create some test data next of which we will take the fast Fourier transform. The data we create is a superposition of two sinusoids with distinct frequencies 50 and 80. Hence, when we transform this to Fourier (frequency) space, we should expect to get a graph with spikes at 50 and 80."
   ]
  },
  {
   "cell_type": "code",
   "execution_count": null,
   "metadata": {},
   "outputs": [],
   "source": [
    "# Number of sample points\n",
    "N = 600\n",
    "\n",
    "# sample spacing\n",
    "T = 1.0 / 800.0\n",
    "\n",
    "x = np.linspace(0.0, N*T, N)\n",
    "# There should be two spikes at 50 and 80 \n",
    "# Spike at 50 should be almost twice as big as magnitude of the second sine \n",
    "# wave is reduced is half of the first sine wave\n",
    "y = np.sin(50.0 * 2.0*np.pi*x) + 0.5*np.sin(80.0 * 2.0*np.pi*x)\n",
    "\n",
    "plt.figure()\n",
    "plt.plot(x,y)\n",
    "plt.xlim(0, 0.1) # superposition of the two sine waves"
   ]
  },
  {
   "cell_type": "code",
   "execution_count": null,
   "metadata": {},
   "outputs": [],
   "source": [
    "yf = fft(y)\n",
    "\n",
    "# take N//2 to keep the positive frequency terms.\n",
    "xf = np.linspace(0.0, 1.0/(2.0*T), N//2)\n",
    "\n",
    "# multiply by normalization constants\n",
    "plt.plot(xf, 2.0/N * np.abs(yf[0:N//2]))\n",
    "plt.grid()\n",
    "plt.show()"
   ]
  },
  {
   "cell_type": "markdown",
   "metadata": {},
   "source": [
    "Note that these peaks are not 'infinitely' sharp (i.e. delta functions centered at the frequencies), although they theoretically should. This has to do with the discretization of the Fourier transform, which truncates the input signal.\n",
    "\n",
    "Scipy also allows you to compute 2 dimensional (or higher) Fourier decompositions. For instance, consider:"
   ]
  },
  {
   "cell_type": "code",
   "execution_count": null,
   "metadata": {},
   "outputs": [],
   "source": [
    "from scipy.fft import ifftn\n",
    "import matplotlib.pyplot as plt\n",
    "import matplotlib.cm as cm\n",
    "\n",
    "# create figures\n",
    "f, ((ax1, ax2, ax3), (ax4, ax5, ax6)) = plt.subplots(2, 3, sharex='col', sharey='row')\n",
    "\n",
    "# dimension of data\n",
    "N = 50\n",
    "\n",
    "# FIRST ROW\n",
    "# create data to be reverse Fourier transformed\n",
    "xf = np.zeros((N,N))\n",
    "xf[2, 5] = 1\n",
    "xf[2, N-5] = 1\n",
    "\n",
    "# another instance of FFT from scipy, which uses complex exponentials instead of sines and cosines\n",
    "Z = ifftn(xf)\n",
    "\n",
    "ax1.imshow(xf, cmap=cm.Reds) # original graph\n",
    "ax4.imshow(np.real(Z), cmap=cm.gray) # fourier transform (real part)\n",
    "\n",
    "\n",
    "xf = np.zeros((N, N))\n",
    "xf[5, 0] = 1\n",
    "xf[N-5, 0] = 1\n",
    "Z = ifftn(xf)\n",
    "ax2.imshow(xf, cmap=cm.Reds)\n",
    "ax5.imshow(np.real(Z), cmap=cm.gray)\n",
    "xf = np.zeros((N, N))\n",
    "\n",
    "\n",
    "xf[5, 10] = 1\n",
    "xf[N-5, N-10] = 1\n",
    "Z = ifftn(xf)\n",
    "ax3.imshow(xf, cmap=cm.Reds)\n",
    "ax6.imshow(np.real(Z), cmap=cm.gray)\n",
    "plt.show()\n"
   ]
  },
  {
   "cell_type": "markdown",
   "metadata": {},
   "source": [
    "<h1> Symbolic Computation and SymPy </h1>\n",
    "\n",
    "Symbolic computation deals with the computation of mathematical objects symbolically. This means that the mathematical objects are represented exactly, not approximately, and mathematical expressions with unevaluated variables are left in symbolic form. In this part of the tutorial we will go over some of the basic functionality of the `SymPy` package, which does precisely this. Much of this section draws from:\n",
    "```\n",
    "https://docs.sympy.org/\n",
    "```\n",
    "\n",
    "There are a bunch of computer algebra software, including Maple and Mathematica. While the funcionality of SymPy is not as extensive as either of these, its benefits include that it is completely free and open source, uses Python as opposed to inventing its own language (Mathematica, for instance, uses the Wolfram langauge), and is fairly lightweight and easy to get started.\n",
    "\n",
    "If you want to learn about Mathematica, stay tuned--PhySU will be offering a Mathematica workshop later into the school year!"
   ]
  },
  {
   "cell_type": "markdown",
   "metadata": {},
   "source": [
    "<h2> Introduction to SymPy </h2>\n",
    "\n",
    "Let us get started with SymPy. Say we want to compute square roots of some numbers. Native python libraries do this using floating point arithmetic, meaning that the results are approximate, not exact. With a symbolic computation system like SymPy, square roots of numbers that are not perfect squares are left unevaluated by default and reduced to a simplified form. Compare:"
   ]
  },
  {
   "cell_type": "code",
   "execution_count": null,
   "metadata": {},
   "outputs": [],
   "source": [
    "import numpy as np\n",
    "import sympy\n",
    "\n",
    "print(np.sqrt(3))\n",
    "print(sympy.sqrt(3))\n",
    "\n",
    "print(np.sqrt(8))\n",
    "print(sympy.sqrt(8))\n",
    "print(sympy.sqrt(8).evalf())"
   ]
  },
  {
   "cell_type": "markdown",
   "metadata": {},
   "source": [
    "The above example starts to show how we can manipulate irrational numbers exactly using SymPy. But we can do much more! Symbolic computation systems (or computer algebra systems/ CASs) such as SymPy are capable of computing symbolic expressions with variables. In SymPy, variables are defined using `symbols`. Unlike many symbolic manipulation systems, variables in SymPy must be defined before they are used."
   ]
  },
  {
   "cell_type": "code",
   "execution_count": null,
   "metadata": {},
   "outputs": [],
   "source": [
    "from sympy import symbols\n",
    "x, y, z = symbols('x y z')\n",
    "expr = x + 2*y\n",
    "expr"
   ]
  },
  {
   "cell_type": "markdown",
   "metadata": {},
   "source": [
    "Note that we wrote $x + 2y$ just as we would if `x` and `y` were ordinary Python variables. But in this case, instead of evaluating to something, the expression remains as just `x + 2y`. Now, let's tinker with it."
   ]
  },
  {
   "cell_type": "code",
   "execution_count": null,
   "metadata": {},
   "outputs": [],
   "source": [
    "expr + 1\n",
    "# expr-x\n",
    "# x*expr"
   ]
  },
  {
   "cell_type": "markdown",
   "metadata": {},
   "source": [
    "Note that aside from obvious simplifications like $x-x$, most simplifications are not performed automatically. To go from various forms, we can use some of the below functions:"
   ]
  },
  {
   "cell_type": "code",
   "execution_count": null,
   "metadata": {},
   "outputs": [],
   "source": [
    "from sympy import expand, factor\n",
    "expanded_expr = expand(x*expr)\n",
    "expanded_expr"
   ]
  },
  {
   "cell_type": "code",
   "execution_count": null,
   "metadata": {},
   "outputs": [],
   "source": [
    "# we can convert expanded_expr to factored form\n",
    "factor(expanded_expr)"
   ]
  },
  {
   "cell_type": "markdown",
   "metadata": {},
   "source": [
    "The real power of a symbolic computation system such as SymPy is the ability to do all sorts of computations symbolically. SymPy can simplify expressions, compute derivatives, integrals, and limits, solve equations, work with matrices, and more, all symbolically."
   ]
  },
  {
   "cell_type": "markdown",
   "metadata": {},
   "source": [
    "Here we make a note about equality. SymPy is like Python in that `=` does not represent equality; rather it is Python variable assignment. The `==` sign used for equality testing in Python doesn't represent equality in SymPy either--it represents exact structural equality testing. That is, `a==b` means we are asking if $a=b$. Instead, we use `Eq` to create symbolic equalities. Consider:"
   ]
  },
  {
   "cell_type": "code",
   "execution_count": null,
   "metadata": {},
   "outputs": [],
   "source": [
    "# x+1 == 4\n",
    "#(x + 1)**2 == x**2 + 2*x + 1\n",
    "#Eq(x + 1, 4)\n",
    "#Eq(x**2 + x + 1, 4)"
   ]
  },
  {
   "cell_type": "markdown",
   "metadata": {},
   "source": [
    "There is also a method called `equals` that tests if two expressions are equal by evaluating them numerically at random points."
   ]
  },
  {
   "cell_type": "code",
   "execution_count": null,
   "metadata": {},
   "outputs": [],
   "source": [
    "a = cos(x)**2 - sin(x)**2\n",
    "b = cos(2*x)\n",
    "a.equals(b)"
   ]
  },
  {
   "cell_type": "markdown",
   "metadata": {},
   "source": [
    "<h2> Basic Operations </h2>\n",
    "\n",
    "Here we discuss some of the most basic operations needed for expression manipulation in SymPy.\n",
    "\n",
    "One of the most common things you might want to do with a mathematical expression is substitution. Substitution replaces all instances of something in an expression with something else. It is done using the `subs` method. For example:"
   ]
  },
  {
   "cell_type": "code",
   "execution_count": null,
   "metadata": {},
   "outputs": [],
   "source": [
    "expr = cos(x) + 1\n",
    "expr.subs(x, y)"
   ]
  },
  {
   "cell_type": "markdown",
   "metadata": {},
   "source": [
    "This can be used to evaluate an expression at a point. For example, consider:"
   ]
  },
  {
   "cell_type": "code",
   "execution_count": null,
   "metadata": {},
   "outputs": [],
   "source": [
    "expr.subs(x, 0)"
   ]
  },
  {
   "cell_type": "markdown",
   "metadata": {},
   "source": [
    "Or to replace a subexpression with another subexpression:"
   ]
  },
  {
   "cell_type": "code",
   "execution_count": null,
   "metadata": {},
   "outputs": [],
   "source": [
    "expr = x**y\n",
    "print(expr)\n",
    "expr = expr.subs(y, x**y)\n",
    "print(expr)\n",
    "expr = expr.subs(y, x**x)\n",
    "print(expr)"
   ]
  },
  {
   "cell_type": "code",
   "execution_count": null,
   "metadata": {},
   "outputs": [],
   "source": [
    "expr = sin(2*x) + cos(2*x)\n",
    "expr.subs(sin(2*x), 2*sin(x)*cos(x))"
   ]
  },
  {
   "cell_type": "markdown",
   "metadata": {},
   "source": [
    "The latter example is an instance of a very controlled simplification, or perhaps a simplification that SymPy is otherwise unable to do. We will see however, that we can perform the above simplification with the function `expand_trig`.\n",
    "\n",
    "It should be noted that `subs` returns a new expression. In fact, all SymPy objects are immutable and all functions return new expressions.\n",
    "\n",
    "To perform multiple substitutions at once, pass a list of `(old, new)` pairs to `subs`:"
   ]
  },
  {
   "cell_type": "code",
   "execution_count": null,
   "metadata": {},
   "outputs": [],
   "source": [
    "expr = x**3 + 4*x*y - z\n",
    "expr.subs([(x, 2), (y, 4), (z, 0)])"
   ]
  },
  {
   "cell_type": "markdown",
   "metadata": {},
   "source": [
    "We can also convert strings to SymPy expressions using `sympify`:"
   ]
  },
  {
   "cell_type": "code",
   "execution_count": null,
   "metadata": {},
   "outputs": [],
   "source": [
    "str_expr = \"x**2 + 3*x - 1/2\"\n",
    "expr = sympify(str_expr)\n",
    "expr"
   ]
  },
  {
   "cell_type": "markdown",
   "metadata": {},
   "source": [
    "<h2> Simplification </h2>\n",
    "\n",
    "One of the most useful features of a symbolic manipulation system is the ability to simplify mathematical expressions. SymPy has dozens of functions to perform various kinds of simplification. There is also one general function called `simplify()` that attempts to apply all of these functions in an intelligent way to arrive at the simplest form of an expression."
   ]
  },
  {
   "cell_type": "code",
   "execution_count": null,
   "metadata": {},
   "outputs": [],
   "source": [
    "simplify(sin(x)**2 + cos(x)**2)"
   ]
  },
  {
   "cell_type": "code",
   "execution_count": null,
   "metadata": {},
   "outputs": [],
   "source": [
    "simplify((x**3 + x**2 - x - 1)/(x**2 + 2*x + 1))"
   ]
  },
  {
   "cell_type": "code",
   "execution_count": null,
   "metadata": {},
   "outputs": [],
   "source": [
    "simplify(gamma(x)/gamma(x - 2))"
   ]
  },
  {
   "cell_type": "markdown",
   "metadata": {},
   "source": [
    "One of the downsides of `simplify` is that it uses heuristics to determine the simplest result, which may not be what you want. Furthermore, it may be unnecessarily slow. For that reason, `simplify` is best used interactively when you want to get an expression down to a simpler form, and there are a wide range of other functions which you are encouraged to use instead:"
   ]
  },
  {
   "cell_type": "code",
   "execution_count": null,
   "metadata": {},
   "outputs": [],
   "source": [
    "expand((x + 1)**2)"
   ]
  },
  {
   "cell_type": "code",
   "execution_count": null,
   "metadata": {},
   "outputs": [],
   "source": [
    "factor(x**3 - x**2 + x - 1)"
   ]
  },
  {
   "cell_type": "code",
   "execution_count": null,
   "metadata": {},
   "outputs": [],
   "source": [
    "# the inputs to factor and expand need not be strict polynomials\n",
    "factor(cos(x)**2 + 2*cos(x)*sin(x) + sin(x)**2)"
   ]
  },
  {
   "cell_type": "code",
   "execution_count": null,
   "metadata": {},
   "outputs": [],
   "source": [
    "# cancel will take any rational function and put it into the standard canonical form\n",
    "cancel((x**2 + 2*x + 1)/(x**2 + x))"
   ]
  },
  {
   "cell_type": "code",
   "execution_count": null,
   "metadata": {},
   "outputs": [],
   "source": [
    "expr = (x*y**2 - 2*x*y*z + x*z**2 + y**2 - 2*y*z + z**2)/(x**2 - 1)\n",
    "cancel(expr)"
   ]
  },
  {
   "cell_type": "code",
   "execution_count": null,
   "metadata": {},
   "outputs": [],
   "source": [
    "# partial fractions:\n",
    "expr = (4*x**3 + 21*x**2 + 10*x + 12)/(x**4 + 5*x**3 + 5*x**2 + 4*x)\n",
    "expr.apart()"
   ]
  },
  {
   "cell_type": "code",
   "execution_count": null,
   "metadata": {},
   "outputs": [],
   "source": [
    "# simplify trigonometric functions:\n",
    "trigsimp(sin(x)**4 - 2*cos(x)**2*sin(x)**2 + cos(x)**4)"
   ]
  },
  {
   "cell_type": "code",
   "execution_count": null,
   "metadata": {},
   "outputs": [],
   "source": [
    "trigsimp(cosh(x)**2 + sinh(x)**2)"
   ]
  },
  {
   "cell_type": "markdown",
   "metadata": {},
   "source": [
    "SymPy also supports a variety of special functions which can be found at https://docs.sympy.org/latest/modules/functions/index.html#functions-contents.\n",
    "These include `factorial(n)`, `binomial(n,k)`, `gamma(z)`, `hyper([a,b],[c],z)`, and so on. Consider:"
   ]
  },
  {
   "cell_type": "code",
   "execution_count": null,
   "metadata": {},
   "outputs": [],
   "source": [
    "factorial(x).rewrite(gamma)"
   ]
  },
  {
   "cell_type": "code",
   "execution_count": null,
   "metadata": {},
   "outputs": [],
   "source": [
    "hyperexpand(hyper([1, 1], [2], z))"
   ]
  },
  {
   "cell_type": "code",
   "execution_count": null,
   "metadata": {},
   "outputs": [],
   "source": [
    "gammasimp(gamma(x)*gamma(1 - x))"
   ]
  },
  {
   "cell_type": "markdown",
   "metadata": {},
   "source": [
    "<h2> Calculus </h2>\n",
    "\n",
    "Calculus forms the bread and butter of any university level physics course. Let's see how to tackle it using SymPy.\n",
    "\n",
    "<h3> Differentiation </h3>\n",
    "\n",
    "To take derivatives, we use `diff`. This can can also be used to take multiple derivatives at once, or even multiple derivatives of multiple variables."
   ]
  },
  {
   "cell_type": "code",
   "execution_count": null,
   "metadata": {},
   "outputs": [],
   "source": [
    "diff(cos(x), x)"
   ]
  },
  {
   "cell_type": "code",
   "execution_count": null,
   "metadata": {},
   "outputs": [],
   "source": [
    "diff(exp(x**2), x, 10)"
   ]
  },
  {
   "cell_type": "code",
   "execution_count": null,
   "metadata": {},
   "outputs": [],
   "source": [
    "expr = exp(x*y*z)\n",
    "diff(expr, x, y, 2, z, 4)"
   ]
  },
  {
   "cell_type": "markdown",
   "metadata": {},
   "source": [
    "We can also create an unevaluated derivative using the `Derivative` class, which has the same syntax as `diff`. This is particularly useful for delaying the evaluation of the derivative, or for printing purposes. They are also used when SymPy does not know how to compute the derivative of an expression. To evaluate an unevaluated derivative, use `doit`."
   ]
  },
  {
   "cell_type": "code",
   "execution_count": null,
   "metadata": {},
   "outputs": [],
   "source": [
    "deriv = Derivative(expr, x, y, y, z, 4)\n",
    "print(deriv)\n",
    "deriv.doit()"
   ]
  },
  {
   "cell_type": "markdown",
   "metadata": {},
   "source": [
    "<h3> Integration </h3>\n",
    "\n",
    "Next we consider integration using `integrate`. These can be definite or indefinite:\n",
    "\n",
    "To compute an indefinite integral, that is, an antiderivative, or primitive, just pass the variable after the expression. Note that SymPy doesn't include the constant of integration."
   ]
  },
  {
   "cell_type": "code",
   "execution_count": null,
   "metadata": {},
   "outputs": [],
   "source": [
    "integrate(cos(x), x)"
   ]
  },
  {
   "cell_type": "markdown",
   "metadata": {},
   "source": [
    "To compute a definite integral, pass the argument `(integration_variable, lower_limit, upper_limit)`. For example:"
   ]
  },
  {
   "cell_type": "code",
   "execution_count": null,
   "metadata": {},
   "outputs": [],
   "source": [
    "integrate(exp(-x), (x, 0, oo))"
   ]
  },
  {
   "cell_type": "markdown",
   "metadata": {},
   "source": [
    "Note that infinity is expressed in SymPy as `oo`. We can also do multiple integrals trivially:"
   ]
  },
  {
   "cell_type": "code",
   "execution_count": null,
   "metadata": {},
   "outputs": [],
   "source": [
    "integrate(exp(-x**2 - y**2), (x, -oo, oo), (y, -oo, oo))"
   ]
  },
  {
   "cell_type": "markdown",
   "metadata": {},
   "source": [
    "SymPy integration is quite powerful. `integrate` uses powerful algorithms including heuristic pattern matching algorithms, the Risch algorithm if you've heard of it, and an algorithm using Meijer G-functions that is useful for computing integrals in terms of special functions. Still, SymPy falls short of Mathematica. If `integrate` is unable to compute an integral, it returns an unevaluated Integral object."
   ]
  },
  {
   "cell_type": "code",
   "execution_count": null,
   "metadata": {},
   "outputs": [],
   "source": [
    "expr = integrate(x**x, x)\n",
    "print(expr)"
   ]
  },
  {
   "cell_type": "markdown",
   "metadata": {},
   "source": [
    "As with `Derivative`, you can create an unevaluated integral using `Integral`. To later evaluate this integral, call `doit`."
   ]
  },
  {
   "cell_type": "markdown",
   "metadata": {},
   "source": [
    "<h3> Limits </h3>\n",
    "\n",
    "Limits are also easy to compute. However, expressions which evaluate to $\\infty-\\infty$ or $\\frac{\\infty}{\\infty}$ may return `nan` (not a number)."
   ]
  },
  {
   "cell_type": "code",
   "execution_count": null,
   "metadata": {},
   "outputs": [],
   "source": [
    "limit(sin(x)/x, x, 0)"
   ]
  },
  {
   "cell_type": "code",
   "execution_count": null,
   "metadata": {},
   "outputs": [],
   "source": [
    "limit(x**2/exp(x), x, oo)"
   ]
  },
  {
   "cell_type": "code",
   "execution_count": null,
   "metadata": {},
   "outputs": [],
   "source": [
    "print(limit(1/x, x, 0, '+'))\n",
    "print(limit(1/x, x, 0, '-'))"
   ]
  },
  {
   "cell_type": "markdown",
   "metadata": {},
   "source": [
    "<h3> Series Expansions </h3>\n",
    "\n",
    "Lastly, SymPy is good at evaluating Taylor series expansions. To compute the expansion of $f(x)$ around the point $x=x0$ terms of order $x^n$, use `f(x).series(x, x0, n)`"
   ]
  },
  {
   "cell_type": "code",
   "execution_count": null,
   "metadata": {},
   "outputs": [],
   "source": [
    "expr = exp(sin(x))\n",
    "expr.series(x, 0, 5)"
   ]
  },
  {
   "cell_type": "code",
   "execution_count": null,
   "metadata": {},
   "outputs": [],
   "source": [
    "exp(x-6).series(x, x0=6)"
   ]
  },
  {
   "cell_type": "markdown",
   "metadata": {},
   "source": [
    "<h2> Solving Equations </h2>\n",
    "\n",
    "<h3> Algebraic Equations </h3>\n",
    "\n",
    "Recall from above that symbolic equations in SymPy are represented by `Eq` instead of `=` or `==`. Alternatively, there is an even easier way. In SymPy, any expression not in an `Eq` is automatically assumed to equal 0 by the solving functions. Consider:"
   ]
  },
  {
   "cell_type": "code",
   "execution_count": null,
   "metadata": {},
   "outputs": [],
   "source": [
    "solveset(Eq(x**2, 1), x)"
   ]
  },
  {
   "cell_type": "code",
   "execution_count": null,
   "metadata": {},
   "outputs": [],
   "source": [
    "solveset(x**2 - 1, x)"
   ]
  },
  {
   "cell_type": "markdown",
   "metadata": {},
   "source": [
    "As the above shows, the main function for solving algebraic equations is `solveset`. The syntax is given by `solveset(equation, variable=None, domain=S.Complexes)`, where equations may be in the form of `Eq` instances or expressions that are assumed to be equal to zero."
   ]
  },
  {
   "cell_type": "code",
   "execution_count": null,
   "metadata": {},
   "outputs": [],
   "source": [
    "solveset(sin(x) - 1, x, domain=S.Reals)"
   ]
  },
  {
   "cell_type": "markdown",
   "metadata": {},
   "source": [
    "If there are no solutions, an `EmptySet` is returned.\n",
    "\n",
    "We can also solve linear systems of equations, where the order of solutions corresponds to the order of given symbols. In the following we have infinitely many solutions, which SymPy has parameterized in terms of the variable $y$."
   ]
  },
  {
   "cell_type": "code",
   "execution_count": null,
   "metadata": {},
   "outputs": [],
   "source": [
    "linsolve([x + y + z - 1, x + y + 2*z - 3], (x, y, z))"
   ]
  },
  {
   "cell_type": "markdown",
   "metadata": {},
   "source": [
    "SymPy also supports systems of nonlinear equations using `nonlinsolve`:"
   ]
  },
  {
   "cell_type": "code",
   "execution_count": null,
   "metadata": {},
   "outputs": [],
   "source": [
    "nonlinsolve([x**2 + 1, y**2 + 1], [x, y])"
   ]
  },
  {
   "cell_type": "markdown",
   "metadata": {},
   "source": [
    "<h3> Differential Equations </h3>\n",
    "\n",
    "Lastly, we will show how SymPy can be used to solve differential equations using `dsolve`. First, we create an undefined function by passing `cls=Function` to the `symbols` function. This way, `f` and `g` are now undefined functions.\n",
    "\n",
    "When we call `f(x)`, and it will represent an unknown function in terms of the variable `x`."
   ]
  },
  {
   "cell_type": "code",
   "execution_count": null,
   "metadata": {},
   "outputs": [],
   "source": [
    "f, g = symbols('f g', cls=Function)"
   ]
  },
  {
   "cell_type": "markdown",
   "metadata": {},
   "source": [
    "Now, consider the differential equation\n",
    "$$f''(x) - 2f'(x) + f(x) = sin(x)$$\n",
    "Where we note that all derivatives of `f(x)` are unevaluated."
   ]
  },
  {
   "cell_type": "code",
   "execution_count": null,
   "metadata": {},
   "outputs": [],
   "source": [
    "diffeq = Eq( f(x).diff(x, x) - 2*f(x).diff(x) + f(x), sin(x) )\n",
    "diffeq"
   ]
  },
  {
   "cell_type": "markdown",
   "metadata": {},
   "source": [
    "Finally, we solve. Note that `dsolve` returns an instance of `Eq` (i.e. an equation or equality), since in general solutions to differential equations cannot be solved explicitly. Constants of integration are represented by `C`'s."
   ]
  },
  {
   "cell_type": "code",
   "execution_count": null,
   "metadata": {},
   "outputs": [],
   "source": [
    "dsolve(diffeq, f(x))"
   ]
  },
  {
   "cell_type": "markdown",
   "metadata": {},
   "source": [
    "<h2> Matrices </h2>\n",
    "\n",
    "As a last demonstration of the functionality of SymPy, we show how it can be used with matrices.\n",
    "\n",
    "To make a matrix in SymPy, use the Matrix object. A matrix is constructed by providing a list of row vectors that make up the matrix. For instance:"
   ]
  },
  {
   "cell_type": "code",
   "execution_count": null,
   "metadata": {},
   "outputs": [],
   "source": [
    "M = Matrix([[1, 2], [3, 2]])\n",
    "M"
   ]
  },
  {
   "cell_type": "markdown",
   "metadata": {},
   "source": [
    "Manipulating them is straightforward:"
   ]
  },
  {
   "cell_type": "code",
   "execution_count": null,
   "metadata": {},
   "outputs": [],
   "source": [
    "M + 5*M + M**2"
   ]
  },
  {
   "cell_type": "code",
   "execution_count": null,
   "metadata": {},
   "outputs": [],
   "source": [
    "# inverting a matrix\n",
    "M**-1"
   ]
  },
  {
   "cell_type": "code",
   "execution_count": null,
   "metadata": {},
   "outputs": [],
   "source": [
    "# taking a transpose\n",
    "M.T"
   ]
  },
  {
   "cell_type": "code",
   "execution_count": null,
   "metadata": {},
   "outputs": [],
   "source": [
    "# matrix deterimant\n",
    "M.det()"
   ]
  },
  {
   "cell_type": "markdown",
   "metadata": {},
   "source": [
    "We showcase some more complicated operations below."
   ]
  },
  {
   "cell_type": "code",
   "execution_count": null,
   "metadata": {},
   "outputs": [],
   "source": [
    "M = Matrix([[1, 0, 1, 3], [2, 3, 4, 7], [-1, -3, -3, -4]])\n",
    "M"
   ]
  },
  {
   "cell_type": "code",
   "execution_count": null,
   "metadata": {},
   "outputs": [],
   "source": [
    "# row reduced echelon form (the second return is a tuple of the pivot columns)\n",
    "M.rref()"
   ]
  },
  {
   "cell_type": "code",
   "execution_count": null,
   "metadata": {},
   "outputs": [],
   "source": [
    "# return a list of column vectors that span the nullspace of the matrix.\n",
    "M.nullspace()"
   ]
  },
  {
   "cell_type": "code",
   "execution_count": null,
   "metadata": {},
   "outputs": [],
   "source": [
    "M = Matrix([[3, -2,  4, -2], [5,  3, -3, -2], [5, -2,  2, -2], [5, -2, -3,  3]])\n",
    "M"
   ]
  },
  {
   "cell_type": "code",
   "execution_count": null,
   "metadata": {},
   "outputs": [],
   "source": [
    "# returns a dictionary of eigenvalues of the matrix of (eigenvalue, algebraic multiplicity) pairs\n",
    "M.eigenvals()"
   ]
  },
  {
   "cell_type": "code",
   "execution_count": null,
   "metadata": {},
   "outputs": [],
   "source": [
    "# diagonalize returns a tuple (P,D), where D is diagonal and M=PDP^-1\n",
    "P, D = M.diagonalize()\n",
    "P"
   ]
  },
  {
   "cell_type": "code",
   "execution_count": null,
   "metadata": {},
   "outputs": [],
   "source": [
    "D"
   ]
  },
  {
   "cell_type": "markdown",
   "metadata": {},
   "source": [
    "In addition to all the basic functionality of SymPy, there are packages built on top of this, many of which are specifically tailored towards physics applications of symbolic computation. For example, there are libraries that help compute Christoffel symbols/ connection coefficients, libraries that do Dirac algebra and perform Feynman integrals, etc."
   ]
  },
  {
   "cell_type": "markdown",
   "metadata": {},
   "source": [
    "<h2> Exercise</h2>"
   ]
  },
  {
   "cell_type": "markdown",
   "metadata": {},
   "source": [
    "### A Projectile Problem\n",
    "\n",
    "**Problem:** Jeremy is standing on a cliff, holding his potato cannon. His finely crafted weapon has a muzzle velocity of 100 m/s, and the cliff is 200 metres tall. Jeremy wants to shoot his potato as far away as possible. Neglecting air resistance, at what angle should Jeremy shoot his cannon to accomplish this? What is the farthest possible distance that he can shoot?\n",
    "\n",
    "This problem can be solved algebraically, but as it turns out, the solution requires a <a href='http://www.themcclungs.net/physics/download/H/2_D_Motion/Projectile%20Cliff.pdf'>some gnarly math and more than one trig identity (or calculus if that's more your style).</a> Some physics problems are much worse than this, and require computations to give a full impression of the solution. \n",
    "\n",
    "Let's start by writing a range function given an angle, height, initial velocity and timestep. We'll use a timestep to figure out how long the projectile will take to hit the ground using the y-velocity and compute the distance travelled in that time. This example is analogous to the one above, except the x acceleration is zero x velocity stays constant."
   ]
  },
  {
   "cell_type": "markdown",
   "metadata": {},
   "source": [
    "#### Solution"
   ]
  },
  {
   "cell_type": "code",
   "execution_count": 1,
   "metadata": {},
   "outputs": [],
   "source": [
    "import numpy as np\n",
    "import matplotlib.pyplot as plt\n",
    "\n",
    "def get_range(h, theta, v_i, dt):\n",
    "    \"\"\"Return the distance travelled by a projectile\n",
    "    launched from height h, at angle theta with initial\n",
    "    velocity v_i\n",
    "    \"\"\"\n",
    "    v_x = v_i*np.cos(theta*np.pi/180)\n",
    "    v_y = v_i*np.sin(theta*np.pi/180)\n",
    "    \n",
    "    # Set initial conditions, note that we don't need to keep track of time\n",
    "    y = h\n",
    "    x = 0\n",
    "        \n",
    "    while y >= 0:\n",
    "        v_y += -9.8*dt\n",
    "        x += v_x*dt\n",
    "        y += v_y*dt\n",
    "        \n",
    "    return x"
   ]
  },
  {
   "cell_type": "markdown",
   "metadata": {},
   "source": [
    "Now that we have our function, the easiest thing to do is generate a bunch of angles and try it on all of them. We do this in the cell below. The `np.argmax` function returns the index of the maximum of the given array."
   ]
  },
  {
   "cell_type": "code",
   "execution_count": 2,
   "metadata": {},
   "outputs": [
    {
     "data": {
      "text/plain": [
       "40.33444816053512"
      ]
     },
     "execution_count": 2,
     "metadata": {},
     "output_type": "execute_result"
    }
   ],
   "source": [
    "height = 200\n",
    "v_i = 100\n",
    "\n",
    "# Set our array of thetas to sample from\n",
    "theta_array = np.linspace(0, 90, num=300)\n",
    "\n",
    "# Make a range array to populate\n",
    "range_array = np.zeros(theta_array.shape)\n",
    "\n",
    "for i in range(len(theta_array)):\n",
    "    range_array[i] = get_range(height, theta_array[i], v_i, 0.001)\n",
    "\n",
    "max_index = np.argmax(range_array)\n",
    "optimal_theta = theta_array[max_index]\n",
    "optimal_theta"
   ]
  },
  {
   "cell_type": "markdown",
   "metadata": {},
   "source": [
    "And that's our optimal angle. Try rerunning the cell using a different timestep. To finish the problem, we'll compute the maximum distance."
   ]
  },
  {
   "cell_type": "code",
   "execution_count": 3,
   "metadata": {},
   "outputs": [
    {
     "data": {
      "text/plain": [
       "1204.4013255717048"
      ]
     },
     "execution_count": 3,
     "metadata": {},
     "output_type": "execute_result"
    }
   ],
   "source": [
    "maximum_distance = get_range(height, optimal_theta, v_i, 0.1)\n",
    "maximum_distance"
   ]
  },
  {
   "cell_type": "markdown",
   "metadata": {},
   "source": [
    "Now it seems reasonable to plot this trajectory so we know what it will look like off the cliff. Below we write a function to get arrays representing time, x position and y position for given angle, height and initial velocity, then we plot the trajectory."
   ]
  },
  {
   "cell_type": "code",
   "execution_count": 4,
   "metadata": {},
   "outputs": [
    {
     "data": {
      "image/png": "[encoded data removed]",
      "text/plain": [
       "<Figure size 432x288 with 1 Axes>"
      ]
     },
     "metadata": {
      "needs_background": "light"
     },
     "output_type": "display_data"
    }
   ],
   "source": [
    "# This function is a little more complicated but it has the exact same structure as the last one\n",
    "\n",
    "def get_range_data(h, theta, v_i, dt):\n",
    "    \"\"\"Return arrays for time, x position, and y position of a projectile\n",
    "    with v_i shot from angle theta at height h\n",
    "\n",
    "    Returns: x_position, y_position\n",
    "    \"\"\"\n",
    "    # Prepare arrays\n",
    "    x_position = np.zeros(round(1000/dt))  # Why do I choose this as my array length?\n",
    "    y_position = np.zeros(round(1000/dt))\n",
    "\n",
    "    # Set initial conditions\n",
    "    y_position[0] = h  \n",
    "    v_x = v_i*np.cos(theta*np.pi/180)\n",
    "    v_y = v_i*np.sin(theta*np.pi/180)\n",
    "\n",
    "    index = 1\n",
    "    while y_position[index - 1] > 0:\n",
    "        v_y += -9.8*dt\n",
    "        x_position[index] = x_position[index - 1] + v_x*dt\n",
    "        y_position[index] = y_position[index - 1] + v_y*dt\n",
    "        index += 1\n",
    "    \n",
    "    # Truncate arrays\n",
    "    x_position = x_position[y_position > 0]\n",
    "    y_position = y_position[y_position > 0]\n",
    "\n",
    "    return x_position, y_position\n",
    "\n",
    "\n",
    "# Our function actually returns a tuple, but we can \"unpack\" a tuple to varibles\n",
    "x_position, y_position = get_range_data(200, optimal_theta, 100, 0.001)\n",
    "\n",
    "# Plot\n",
    "plt.figure()\n",
    "plt.plot(x_position, y_position)\n",
    "plt.xlabel('Distance (m)')\n",
    "plt.ylabel('Height (m)')\n",
    "plt.title(f'Optimal trajectory at angle {round(optimal_theta, 3)}')\n",
    "plt.show()"
   ]
  },
  {
   "cell_type": "markdown",
   "metadata": {},
   "source": [
    "We could have started with this function, but sometimes just writing a simple function to solve a problem is easier than a more general complicated one. \n",
    "\n",
    "As a side effect of that last step, we now have the tools to plot any trajectory we want. As an extra bonus step, let's plot a few differently angles and see how to make a different sized plot and add a legend."
   ]
  },
  {
   "cell_type": "code",
   "execution_count": 5,
   "metadata": {},
   "outputs": [
    {
     "data": {
      "image/png": "[encoded data removed]",
      "text/plain": [
       "<Figure size 648x432 with 1 Axes>"
      ]
     },
     "metadata": {
      "needs_background": "light"
     },
     "output_type": "display_data"
    }
   ],
   "source": [
    "angle_list = [-15, 0, 15, 30, optimal_theta, 50, 60, 75, 85]\n",
    "\n",
    "# Specify the figsize, these end up being in inches if you want to print your figure\n",
    "plt.figure(figsize=(9, 6))\n",
    "\n",
    "# Use a for loop to plot\n",
    "for angle in angle_list:\n",
    "    # Get data\n",
    "    x_position, y_position = get_range_data(200, angle, 100, 0.001)\n",
    "    # We can label our lines to put in a legend\n",
    "    plt.plot(x_position, y_position, label=f'{round(angle, 2)} degrees')\n",
    "\n",
    "# Labels\n",
    "plt.xlabel('Distance (m)')\n",
    "plt.ylabel('Height (m)')\n",
    "plt.title('Trajectories at many angles')\n",
    "\n",
    "# Optional decorations to outline the cliff\n",
    "plt.hlines(0, 0, 1300)   # ground\n",
    "plt.hlines(200, -100, 0) # cliff\n",
    "plt.vlines(0, 0, 200)    # cliff face\n",
    "plt.xlim(-50, 1250)      # reset plot limits\n",
    "\n",
    "# And the legend\n",
    "plt.legend(title='Angle:')\n",
    "plt.show()"
   ]
  }
 ],
 "metadata": {
  "colab": {
   "name": "PythonTutorialForPhysicists1.ipynb",
   "provenance": []
  },
  "kernelspec": {
   "display_name": "Python 3 (ipykernel)",
   "language": "python",
   "name": "python3"
  },
  "language_info": {
   "codemirror_mode": {
    "name": "ipython",
    "version": 3
   },
   "file_extension": ".py",
   "mimetype": "text/x-python",
   "name": "python",
   "nbconvert_exporter": "python",
   "pygments_lexer": "ipython3",
   "version": "3.9.12"
  }
 },
 "nbformat": 4,
 "nbformat_minor": 1
}
